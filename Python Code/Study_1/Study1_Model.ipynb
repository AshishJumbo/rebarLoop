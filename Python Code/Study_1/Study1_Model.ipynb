{
 "cells": [
  {
   "cell_type": "code",
   "execution_count": 1,
   "id": "b1804b57",
   "metadata": {},
   "outputs": [],
   "source": [
    "import lib.datautility as du\n",
    "import numpy as np\n",
    "import lib.tf_network2 as tfnet\n",
    "import lib.evaluationutility as eu\n",
    "from lib.tf_network2 import Network, Cost, Normalization, Optimizer\n",
    "import tensorflow as tf\n",
    "import session_info"
   ]
  },
  {
   "cell_type": "code",
   "execution_count": 2,
   "id": "ac89cb20",
   "metadata": {},
   "outputs": [],
   "source": [
    "import zipfile\n",
    "with zipfile.ZipFile('resources/resources.zip','r') as zf:\n",
    "    zf.extractall('resources/')"
   ]
  },
  {
   "cell_type": "code",
   "execution_count": 3,
   "id": "d795be68",
   "metadata": {
    "scrolled": true
   },
   "outputs": [
    {
     "name": "stdout",
     "output_type": "stream",
     "text": [
      "-- loading resources/remnant.csv...(100%)   \n",
      "================================================================================\n",
      "DESCRIPTIVES     100 Rows, 33 Columns   \n",
      "================================================================================\n",
      "0 is_experiment (int):         0 missing (0.0%)     mean=0.25 (SD=0.43)                                                                              \n",
      "1 user_id (int):               0 missing (0.0%)     mean=38967.20 (SD=16785.77)                                                                      \n",
      "2 assignment_id (int):         0 missing (0.0%)     mean=423624.56 (SD=328161.88)                                                                    \n",
      "3 sequence_id (int):           0 missing (0.0%)     mean=11379.34 (SD=22730.82)                                                                      \n",
      "4 start_time (string):         0 missing (0.0%)     100 unique values                                                                                \n",
      "5 end_time (string):           43 missing (0.4%)    58 unique values                                                                                 \n",
      "6 ex_sequence_i... (int):      18 missing (0.2%)    mean=11990.39 (SD=24878.32)                                                                      \n",
      "7 problems_star... (int):      0 missing (0.0%)     mean=4.34 (SD=4.60)                                                                              \n",
      "8 problems_comp... (int):      0 missing (0.0%)     mean=4.10 (SD=4.68)                                                                              \n",
      "9 last_activity (string):      0 missing (0.0%)     100 unique values                                                                                \n",
      "10 mastery_spee... (int):      43 missing (0.4%)    mean=4.14 (SD=3.94)                                                                              \n",
      "11 inverse_mast... (float):    0 missing (0.0%)     mean=0.25 (SD=0.33)                                                                              \n",
      "12 complete (int):             0 missing (0.0%)     mean=0.57 (SD=0.50)                                                                              \n",
      "13 next_complet... (int):      12 missing (0.1%)    mean=0.56 (SD=0.50)                                                                              \n",
      "14 next_mastery... (int):      51 missing (0.5%)    mean=3.16 (SD=1.75)                                                                              \n",
      "15 next_inverse... (float):    12 missing (0.1%)    mean=0.26 (SD=0.34)                                                                              \n",
      "16 ex_complete (int):          30 missing (0.3%)    mean=0.60 (SD=0.49)                                                                              \n",
      "17 ex_mastery_s... (int):      58 missing (0.6%)    mean=3.21 (SD=1.78)                                                                              \n",
      "18 ex_inverse_m... (float):    30 missing (0.3%)    mean=0.28 (SD=0.34)                                                                              \n",
      "19 future_ex (int):            0 missing (0.0%)     mean=1.00 (SD=0.00)                                                                              \n",
      "20 is_test (int):              0 missing (0.0%)     mean=0.00 (SD=0.00)                                                                              \n",
      "21 root_problem... (float):    0 missing (0.0%)     mean=1.89 (SD=0.89)                                                                              \n",
      "22 root_problem... (float):    0 missing (0.0%)     mean=1.74 (SD=1.04)                                                                              \n",
      "23 root_inverse... (float):    0 missing (0.0%)     mean=0.35 (SD=0.36)                                                                              \n",
      "24 percent_corr... (float):    11 missing (0.1%)    mean=0.64 (SD=0.37)                                                                              \n",
      "25 root_percent... (float):    11 missing (0.1%)    mean=0.73 (SD=0.34)                                                                              \n",
      "26 root_avg_att... (float):    0 missing (0.0%)     mean=1.27 (SD=0.48)                                                                              \n",
      "27 avg_attempt_... (float):    11 missing (0.1%)    mean=0.88 (SD=0.22)                                                                              \n",
      "28 avg_bottomou... (float):    44 missing (0.4%)    mean=0.47 (SD=0.45)                                                                              \n",
      "29 avg_attempts (float):       0 missing (0.0%)     mean=1.84 (SD=0.80)                                                                              \n",
      "30 avg_first_re... (float):    0 missing (0.0%)     mean=260.96 (SD=187.90)                                                                          \n",
      "31 avg_problem_... (float):    0 missing (0.0%)     mean=44.45 (SD=222.93)                                                                           \n",
      "32 avg_working_... (int):      0 missing (0.0%)     mean=1.20 (SD=0.81)                                                                              \n",
      "================================================================================\n",
      "\n",
      "-- loading resources/experimental.csv...(100%)   \n",
      "================================================================================\n",
      "DESCRIPTIVES     100 Rows, 39 Columns   \n",
      "================================================================================\n",
      "0 is_experiment (int):         0 missing (0.0%)     mean=0.18 (SD=0.38)                                                                              \n",
      "1 user_id (int):               0 missing (0.0%)     mean=76092.92 (SD=1164.64)                                                                       \n",
      "2 assignment_id (int):         0 missing (0.0%)     mean=939936.88 (SD=24534.29)                                                                     \n",
      "3 sequence_id (int):           0 missing (0.0%)     mean=64403.56 (SD=91239.20)                                                                      \n",
      "4 id (int):                    0 missing (0.0%)     mean=5884.65 (SD=1676.16)                                                                        \n",
      "5 end_time (string):           8 missing (0.1%)     48 unique values                                                                                 \n",
      "6 ex_sequence_i... (int):      82 missing (0.8%)    mean=257483.56 (SD=4567.36)                                                                      \n",
      "7 problems_star... (int):      0 missing (0.0%)     mean=5.96 (SD=3.79)                                                                              \n",
      "8 problems_comp... (int):      0 missing (0.0%)     mean=5.88 (SD=3.79)                                                                              \n",
      "9 last_activity (string):      0 missing (0.0%)     51 unique values                                                                                 \n",
      "10 mastery_spee... (int):      8 missing (0.1%)     mean=5.58 (SD=3.14)                                                                              \n",
      "11 inverse_mast... (float):    0 missing (0.0%)     mean=0.20 (SD=0.10)                                                                              \n",
      "12 complete (int):             0 missing (0.0%)     mean=0.92 (SD=0.27)                                                                              \n",
      "13 next_complet... (int):      0 missing (0.0%)     mean=0.90 (SD=0.30)                                                                              \n",
      "14 next_mastery... (int):      10 missing (0.1%)    mean=5.22 (SD=2.65)                                                                              \n",
      "15 next_inverse... (float):    0 missing (0.0%)     mean=0.20 (SD=0.10)                                                                              \n",
      "16 ex_complete (int):          81 missing (0.8%)    mean=0.79 (SD=0.41)                                                                              \n",
      "17 ex_mastery_s... (int):      85 missing (0.8%)    mean=6.80 (SD=3.23)                                                                              \n",
      "18 ex_inverse_m... (float):    81 missing (0.8%)    mean=0.14 (SD=0.09)                                                                              \n",
      "19 future_ex (int):            0 missing (0.0%)     mean=2.66 (SD=1.40)                                                                              \n",
      "20 is_test (int):              0 missing (0.0%)     mean=1.00 (SD=0.00)                                                                              \n",
      "21 root_problem... (float):    0 missing (0.0%)     mean=2.35 (SD=0.66)                                                                              \n",
      "22 root_problem... (float):    0 missing (0.0%)     mean=2.33 (SD=0.67)                                                                              \n",
      "23 root_inverse... (float):    0 missing (0.0%)     mean=0.42 (SD=0.16)                                                                              \n",
      "24 percent_corr... (float):    0 missing (0.0%)     mean=0.73 (SD=0.22)                                                                              \n",
      "25 root_percent... (float):    0 missing (0.0%)     mean=0.84 (SD=0.17)                                                                              \n",
      "26 root_avg_att... (float):    0 missing (0.0%)     mean=1.45 (SD=0.12)                                                                              \n",
      "27 avg_attempt_... (float):    0 missing (0.0%)     mean=0.90 (SD=0.19)                                                                              \n",
      "28 avg_bottomou... (float):    0 missing (0.0%)     mean=0.12 (SD=0.16)                                                                              \n",
      "29 avg_attempts (float):       0 missing (0.0%)     mean=2.10 (SD=0.32)                                                                              \n",
      "30 avg_first_re... (float):    0 missing (0.0%)     mean=784.93 (SD=1122.69)                                                                         \n",
      "31 avg_problem_... (float):    0 missing (0.0%)     mean=39.97 (SD=60.16)                                                                            \n",
      "32 avg_working_... (int):      0 missing (0.0%)     mean=1.21 (SD=0.48)                                                                              \n",
      "33 experiment (int):           0 missing (0.0%)     mean=255794.08 (SD=8111.06)                                                                      \n",
      "34 next_is_expe... (int):      0 missing (0.0%)     mean=0.12 (SD=0.32)                                                                              \n",
      "35 seen_experim... (int):      0 missing (0.0%)     mean=0.00 (SD=0.00)                                                                              \n",
      "36 start_time (string):        0 missing (0.0%)     51 unique values                                                                                 \n",
      "37 id (int):                   0 missing (0.0%)     mean=5884.65 (SD=1676.16)                                                                        \n",
      "38 link (int):                 0 missing (0.0%)     mean=76093186048.00 (SD=1164638592.00)                                                              \n",
      "================================================================================\n",
      "\n"
     ]
    }
   ],
   "source": [
    "data, headers = du.read_csv('resources/remnant.csv')\n",
    "du.print_descriptives(data, headers)\n",
    "\n",
    "data, headers = du.read_csv('resources/experimental.csv')\n",
    "du.print_descriptives(data, headers)"
   ]
  },
  {
   "cell_type": "code",
   "execution_count": 4,
   "id": "a6a519f8",
   "metadata": {},
   "outputs": [
    {
     "name": "stdout",
     "output_type": "stream",
     "text": [
      "-- loading resources/remnant.csv...(100%)   \n",
      "-- preparing to format sequence from file...\n",
      "-- formatting sequence...(0.64%) "
     ]
    },
    {
     "name": "stderr",
     "output_type": "stream",
     "text": [
      "C:\\Users\\asalesl\\Google Drive\\iesJohannReloop\\reloopPaper\\Python Code\\Study_1\\lib\\tf_network2.py:2001: VisibleDeprecationWarning: Creating an ndarray from ragged nested sequences (which is a list-or-tuple of lists-or-tuples-or ndarrays with different lengths or shapes) is deprecated. If you meant to do this, you must specify 'dtype=object' when creating the ndarray\n",
      "  seq['x'] = np.array(x)\n",
      "C:\\Users\\asalesl\\Google Drive\\iesJohannReloop\\reloopPaper\\Python Code\\Study_1\\lib\\tf_network2.py:2003: VisibleDeprecationWarning: Creating an ndarray from ragged nested sequences (which is a list-or-tuple of lists-or-tuples-or ndarrays with different lengths or shapes) is deprecated. If you meant to do this, you must specify 'dtype=object' when creating the ndarray\n",
      "  seq['iden'] = np.array(id)\n"
     ]
    },
    {
     "name": "stdout",
     "output_type": "stream",
     "text": [
      "-- formatting sequence...(100%)   \n",
      "formatting identifiers...\n"
     ]
    },
    {
     "name": "stderr",
     "output_type": "stream",
     "text": [
      "C:\\Users\\asalesl\\anaconda3\\lib\\site-packages\\numpy\\core\\_asarray.py:136: VisibleDeprecationWarning: Creating an ndarray from ragged nested sequences (which is a list-or-tuple of lists-or-tuples-or ndarrays with different lengths or shapes) is deprecated. If you meant to do this, you must specify 'dtype=object' when creating the ndarray\n",
      "  return array(a, dtype, copy=False, order=order, subok=True)\n"
     ]
    },
    {
     "name": "stdout",
     "output_type": "stream",
     "text": [
      "formatting output labels...\n",
      "formatting feature columns...\n",
      "done!\n"
     ]
    }
   ],
   "source": [
    "seq = dict()\n",
    "\n",
    "key = [1]\n",
    "label = [[13], [15], [12]]\n",
    "cov = [7, 8, 11, 12, 21, 22, 23, 24, 25, 26, 27, 28, 29, 30, 31, 32]\n",
    "iden = [0, 2, 3, 6]\n",
    "sortby = [4]\n",
    "\n",
    "seq = tfnet.format_sequence_from_file('resources/remnant.csv',key,label,cov,iden,sortby)\n",
    "print('formatting identifiers...')\n",
    "seq['key'] = tfnet.fold_by_key(seq['key'], -1, 10)\n",
    "print('formatting output labels...')\n",
    "seq['y'] = tfnet.offset_multi_label(seq['y'],2,-1)\n",
    "print('formatting feature columns...')\n",
    "seq['x'] = tfnet.sequence_impute_missing(seq['x'])\n",
    "print('done!')"
   ]
  },
  {
   "cell_type": "code",
   "execution_count": 5,
   "id": "d6d96e38",
   "metadata": {},
   "outputs": [
    {
     "name": "stdout",
     "output_type": "stream",
     "text": [
      "-- loading resources/experimental.csv...(100%)   \n",
      "-- preparing to format sequence from file...\n",
      "-- formatting sequence...(100%)   \n",
      "formatting output labels...\n",
      "formatting feature columns...\n",
      "done!\n"
     ]
    }
   ],
   "source": [
    "seqt = dict()\n",
    "\n",
    "key = [33, 1]\n",
    "label = [[13], [15], [12]]\n",
    "cov = [7, 8, 11, 12, 21, 22, 23, 24, 25, 26, 27, 28, 29, 30, 31, 32]\n",
    "iden = [38, 34, 2, 3]\n",
    "sortby = [4]\n",
    "\n",
    "tf.compat.v1.disable_eager_execution()\n",
    "\n",
    "seqt = tfnet.format_sequence_from_file('resources/experimental.csv', key, label, cov, iden, sortby)\n",
    "print('formatting output labels...')\n",
    "seqt['y'] = tfnet.offset_multi_label(seqt['y'], 2, -1)\n",
    "seqt['y'] = tfnet.extract_from_multi_label(seqt['y'], [0, 1])\n",
    "print('formatting feature columns...')\n",
    "seqt['x'] = tfnet.sequence_impute_missing(seqt['x'])\n",
    "print('done!')"
   ]
  },
  {
   "cell_type": "code",
   "execution_count": 6,
   "id": "93c1d101",
   "metadata": {},
   "outputs": [
    {
     "name": "stdout",
     "output_type": "stream",
     "text": [
      "========================================\n",
      "======  Label Description  =============\n",
      "========================================\n",
      "-- Number of Samples: 130678\n",
      "-- Number of Label Sets: 2\n",
      "---- 1: 1 Label\n",
      "---- 2: 1 Label\n",
      "========================================\n",
      "\n"
     ]
    }
   ],
   "source": [
    "max_epochs = 200\n",
    "hidden = 50\n",
    "batch = 64\n",
    "keep = .5\n",
    "step = 5e-4\n",
    "threshold = .001\n",
    "optimizer = Optimizer.ADAM\n",
    "\n",
    "tf.compat.v1.disable_eager_execution()\n",
    "\n",
    "n_cov = len(seq['x'][0][0])\n",
    "seq['y'] = tfnet.extract_from_multi_label(seq['y'], [0, 1])\n",
    "desc = tfnet.describe_multi_label(seq['y'], True)\n",
    "\n",
    "exp = np.unique(seqt['key'].reshape((-1, len(key)))[:, 0])"
   ]
  },
  {
   "cell_type": "code",
   "execution_count": 7,
   "id": "1582972d",
   "metadata": {},
   "outputs": [
    {
     "name": "stdout",
     "output_type": "stream",
     "text": [
      "WARNING:tensorflow:From C:\\Users\\asalesl\\anaconda3\\lib\\site-packages\\tensorflow\\python\\util\\dispatch.py:206: calling dropout (from tensorflow.python.ops.nn_ops) with keep_prob is deprecated and will be removed in a future version.\n",
      "Instructions for updating:\n",
      "Please use `rate` instead of `keep_prob`. Rate should be set to `rate = 1 - keep_prob`.\n",
      "WARNING - Incomplete validation set information was provided. Using default 70/30% split.\n",
      "========================================\n",
      "            Training Network            \n",
      "========================================\n",
      "-3 layers: 16n -> 50n -> 1n, 1n\n",
      "-200 epochs\n",
      "-step size = 0.0005\n",
      "-batch size = 64\n",
      "==================================================\n",
      "Epoch        Cost    Val Cost   Delta         Time\n",
      "==================================================\n"
     ]
    },
    {
     "name": "stderr",
     "output_type": "stream",
     "text": [
      "C:\\Users\\asalesl\\Google Drive\\iesJohannReloop\\reloopPaper\\Python Code\\Study_1\\lib\\tf_network2.py:1048: VisibleDeprecationWarning: Creating an ndarray from ragged nested sequences (which is a list-or-tuple of lists-or-tuples-or ndarrays with different lengths or shapes) is deprecated. If you meant to do this, you must specify 'dtype=object' when creating the ndarray\n",
      "  np.array([a[i] for a in series_label])]).reshape((len(series_batch), n_timestep, -1)))\n"
     ]
    },
    {
     "name": "stdout",
     "output_type": "stream",
     "text": [
      "Epoch 1     0.9853    0.7238    0.0000      122.8s\n",
      "Epoch 2     0.9092    0.7212    0.0013      116.6s\n",
      "Epoch 3     0.9018    0.7166    0.0020      116.7s\n",
      "Epoch 4     0.8976    0.7138    0.0017      117.5s\n",
      "Epoch 5     0.8960    0.7130    0.0012      118.4s\n",
      "Epoch 6     0.8942    0.7128    0.0022      117.8s\n",
      "Epoch 7     0.8930    0.7118    0.0019      116.9s\n",
      "Epoch 8     0.8918    0.7114    0.0010      117.7s\n",
      "Epoch 9     0.8911    0.7114    0.0005      116.5s\n",
      "==================================================\n",
      "Total Time: 1060.8s\n"
     ]
    }
   ],
   "source": [
    "tf.compat.v1.reset_default_graph()\n",
    "tf.compat.v1.set_random_seed(1)\n",
    "np.random.seed(1)\n",
    "\n",
    "# build the model\n",
    "net = Network('study1_model').add_input_layer(n_cov, normalization=Normalization.Z_SCORE)\n",
    "net.add_lstm_layer(hidden, peepholes=True, activation=tf.nn.leaky_relu)\n",
    "net.begin_multi_output(cost_methods=[Cost.BINARY_CROSS_ENTROPY,\n",
    "                                     Cost.RMSE])\n",
    "net.add_dropout_layer(1, keep=keep, activation=tf.nn.sigmoid)\n",
    "net.add_dropout_layer(1, keep=keep, activation=tf.identity)\n",
    "net.end_multi_output()\n",
    "\n",
    "# set defaults\n",
    "net.set_default_cost_method(Cost.BINARY_CROSS_ENTROPY)\n",
    "net.set_optimizer(optimizer)\n",
    "\n",
    "# train the model and save the trained weights\n",
    "net.train(x=seq['x'],\n",
    "          y=seq['y'],\n",
    "          step=step,\n",
    "          use_validation=True,\n",
    "          max_epochs=max_epochs, threshold=threshold, batch=batch)"
   ]
  },
  {
   "cell_type": "code",
   "execution_count": 8,
   "id": "498d300c",
   "metadata": {},
   "outputs": [],
   "source": [
    "net.save_model_weights()      # comment to use a previously-saved model\n",
    "#\n",
    "# net.build()                 # uncomment to use previously-saved model\n",
    "# net.restore_model_weights() # uncomment to use previously-saved model"
   ]
  },
  {
   "cell_type": "code",
   "execution_count": 10,
   "id": "0ee637f7",
   "metadata": {},
   "outputs": [
    {
     "name": "stdout",
     "output_type": "stream",
     "text": [
      "formatting model predictions for experiment 226210\n",
      "formatting model predictions for experiment 237447\n",
      "formatting model predictions for experiment 241501\n",
      "formatting model predictions for experiment 241622\n",
      "formatting model predictions for experiment 243393\n",
      "formatting model predictions for experiment 246482\n",
      "formatting model predictions for experiment 246627\n",
      "formatting model predictions for experiment 246647\n",
      "formatting model predictions for experiment 250476\n",
      "formatting model predictions for experiment 255116\n",
      "formatting model predictions for experiment 256017\n",
      "formatting model predictions for experiment 256027\n",
      "formatting model predictions for experiment 259379\n",
      "formatting model predictions for experiment 263015\n",
      "formatting model predictions for experiment 263052\n",
      "formatting model predictions for experiment 263057\n",
      "formatting model predictions for experiment 263109\n",
      "formatting model predictions for experiment 263115\n",
      "formatting model predictions for experiment 293151\n",
      "formatting model predictions for experiment 303899\n",
      "formatting model predictions for experiment 377658\n",
      "formatting model predictions for experiment 377938\n",
      "done!\n"
     ]
    }
   ],
   "source": [
    "for e in range(len(exp)):\n",
    "    print('formatting model predictions for experiment {}'.format(exp[e]))\n",
    "    test = np.argwhere(seqt['key'].reshape((-1, len(key)))[:, 0] == exp[e]).ravel()\n",
    "\n",
    "    pred = net.predict(x=seqt['x'][test], batch=1024)\n",
    "\n",
    "    fold_pred = tfnet.flatten_sequence(seqt['y'][test], key=seqt['key'].reshape((-1, len(key)))[test], identifier=seqt['iden'][test])\n",
    "\n",
    "    for p in range(len(pred)):\n",
    "        tr_max = 1\n",
    "        tr_min = 0\n",
    "        upperbound = 1 if p == 0 else 0.333\n",
    "\n",
    "        # and apply it to the experimental predictions\n",
    "        fold_pred = np.append(fold_pred,\n",
    "                              ((tfnet.flatten_sequence(pred[p]) - tr_min) / (tr_max - tr_min)) * upperbound,\n",
    "                              axis=1)\n",
    "\n",
    "    hdr = np.array(headers)[iden]\n",
    "    hdr = np.append(hdr, np.array(headers)[key])\n",
    "\n",
    "    hdr = np.append(hdr, ['complete', 'inv_mastery', 'p_complete', 'p_inv_mastery'])\n",
    "    du.write_csv(fold_pred, 'model_predictions.csv', hdr if e == 0 else None, append=e > 0)\n",
    "print('done!')"
   ]
  },
  {
   "cell_type": "code",
   "execution_count": 11,
   "id": "a949afed",
   "metadata": {
    "scrolled": true
   },
   "outputs": [
    {
     "data": {
      "text/html": [
       "<details>\n",
       "<summary>Click to view session information</summary>\n",
       "<pre>\n",
       "-----\n",
       "graph_def_editor    NA\n",
       "lib                 NA\n",
       "numpy               1.19.5\n",
       "pandas              1.2.4\n",
       "session_info        1.0.0\n",
       "tensorflow          2.5.0\n",
       "-----\n",
       "</pre>\n",
       "<details>\n",
       "<summary>Click to view modules imported as dependencies</summary>\n",
       "<pre>\n",
       "2f7ece400a652629565c523b34ee61b04afa385c    NA\n",
       "Levenshtein                                 NA\n",
       "PIL                                         8.2.0\n",
       "absl                                        NA\n",
       "anyio                                       NA\n",
       "astunparse                                  1.6.3\n",
       "attr                                        20.3.0\n",
       "babel                                       2.9.0\n",
       "backcall                                    0.2.0\n",
       "bottleneck                                  1.3.2\n",
       "brotli                                      NA\n",
       "certifi                                     2020.12.05\n",
       "cffi                                        1.14.5\n",
       "chardet                                     4.0.0\n",
       "colorama                                    0.4.4\n",
       "cython_runtime                              NA\n",
       "dateutil                                    2.8.1\n",
       "decorator                                   5.0.6\n",
       "flatbuffers                                 NA\n",
       "gast                                        NA\n",
       "google                                      NA\n",
       "h5py                                        3.1.0\n",
       "idna                                        2.10\n",
       "ipykernel                                   5.3.4\n",
       "ipython_genutils                            0.2.0\n",
       "jedi                                        0.17.2\n",
       "jinja2                                      2.11.3\n",
       "joblib                                      1.0.1\n",
       "json5                                       NA\n",
       "jsonschema                                  3.2.0\n",
       "jupyter_server                              1.4.1\n",
       "jupyterlab_server                           2.4.0\n",
       "keras_preprocessing                         1.1.2\n",
       "markupsafe                                  1.1.1\n",
       "mpl_toolkits                                NA\n",
       "nbclassic                                   NA\n",
       "nbformat                                    5.1.3\n",
       "nltk                                        3.6.1\n",
       "nt                                          NA\n",
       "ntsecuritycon                               NA\n",
       "opt_einsum                                  v3.3.0\n",
       "packaging                                   20.9\n",
       "parso                                       0.7.0\n",
       "pickleshare                                 0.7.5\n",
       "pkg_resources                               NA\n",
       "prometheus_client                           NA\n",
       "prompt_toolkit                              3.0.17\n",
       "psutil                                      5.8.0\n",
       "psycopg2                                    2.8.6 (dt dec pq3 ext lo64)\n",
       "pvectorc                                    NA\n",
       "pygments                                    2.8.1\n",
       "pyrsistent                                  NA\n",
       "pythoncom                                   NA\n",
       "pytz                                        2021.1\n",
       "pywintypes                                  NA\n",
       "regex                                       2.5.93\n",
       "requests                                    2.25.1\n",
       "ruamel                                      NA\n",
       "scipy                                       1.6.2\n",
       "send2trash                                  NA\n",
       "six                                         1.15.0\n",
       "sklearn                                     0.24.1\n",
       "skll                                        NA\n",
       "sniffio                                     1.2.0\n",
       "socks                                       1.7.1\n",
       "sphinxcontrib                               NA\n",
       "storemagic                                  NA\n",
       "tblib                                       1.7.0\n",
       "tensorboard                                 2.5.0\n",
       "termcolor                                   1.1.0\n",
       "tornado                                     6.1\n",
       "traitlets                                   5.0.5\n",
       "typing_extensions                           NA\n",
       "urllib3                                     1.26.4\n",
       "wcwidth                                     0.2.5\n",
       "win32api                                    NA\n",
       "win32com                                    NA\n",
       "win32security                               NA\n",
       "wrapt                                       1.12.1\n",
       "yaml                                        5.4.1\n",
       "zmq                                         20.0.0\n",
       "zope                                        NA\n",
       "</pre>\n",
       "</details> <!-- seems like this ends pre, so might as well be explicit -->\n",
       "<pre>\n",
       "-----\n",
       "IPython             7.22.0\n",
       "jupyter_client      6.1.12\n",
       "jupyter_core        4.7.1\n",
       "jupyterlab          3.0.14\n",
       "notebook            6.3.0\n",
       "-----\n",
       "Python 3.8.8 (default, Apr 13 2021, 15:08:03) [MSC v.1916 64 bit (AMD64)]\n",
       "Windows-10-10.0.18362-SP0\n",
       "-----\n",
       "Session information updated at 2021-06-10 15:11\n",
       "</pre>\n",
       "</details>"
      ],
      "text/plain": [
       "<IPython.core.display.HTML object>"
      ]
     },
     "execution_count": 11,
     "metadata": {},
     "output_type": "execute_result"
    }
   ],
   "source": [
    "import graph_def_editor as graph_editor\n",
    "import lib.datautility as du\n",
    "import warnings\n",
    "import time\n",
    "import csv\n",
    "import sys\n",
    "import os\n",
    "import pandas as pd\n",
    "\n",
    "session_info.show()"
   ]
  },
  {
   "cell_type": "code",
   "execution_count": 12,
   "id": "21dcf596",
   "metadata": {},
   "outputs": [],
   "source": [
    "net.session.close()"
   ]
  },
  {
   "cell_type": "code",
   "execution_count": null,
   "id": "3e2f8ff2",
   "metadata": {},
   "outputs": [],
   "source": []
  }
 ],
 "metadata": {
  "kernelspec": {
   "display_name": "Python 3",
   "language": "python",
   "name": "python3"
  },
  "language_info": {
   "codemirror_mode": {
    "name": "ipython",
    "version": 3
   },
   "file_extension": ".py",
   "mimetype": "text/x-python",
   "name": "python",
   "nbconvert_exporter": "python",
   "pygments_lexer": "ipython3",
   "version": "3.8.8"
  }
 },
 "nbformat": 4,
 "nbformat_minor": 5
}
