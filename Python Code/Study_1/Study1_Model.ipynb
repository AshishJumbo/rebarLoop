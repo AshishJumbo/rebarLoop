{
 "cells": [
  {
   "cell_type": "code",
   "execution_count": 1,
   "id": "b1804b57",
   "metadata": {},
   "outputs": [],
   "source": [
    "import lib.datautility as du\n",
    "import numpy as np\n",
    "import lib.tf_network as tfnet\n",
    "import lib.evaluationutility as eu\n",
    "from lib.tf_network2 import Network, Cost, Normalization, Optimizer\n",
    "import tensorflow as tf\n",
    "import session_info"
   ]
  },
  {
   "cell_type": "code",
   "execution_count": 2,
   "id": "ac89cb20",
   "metadata": {},
   "outputs": [],
   "source": [
    "import zipfile\n",
    "with zipfile.ZipFile('resources/resources.zip','r') as zf:\n",
    "    zf.extractall('resources/')"
   ]
  },
  {
   "cell_type": "code",
   "execution_count": 3,
   "id": "d795be68",
   "metadata": {
    "scrolled": true
   },
   "outputs": [
    {
     "name": "stdout",
     "output_type": "stream",
     "text": [
      "-- loading resources/remnant.csv...(100%)   \n",
      "================================================================================\n",
      "DESCRIPTIVES     100 Rows, 33 Columns   \n",
      "================================================================================\n",
      "0 is_experiment (int):         0 missing (0.0%)     mean=0.25 (SD=0.43)                                                                              \n",
      "1 user_id (int):               0 missing (0.0%)     mean=38967.20 (SD=16785.77)                                                                      \n",
      "2 assignment_id (int):         0 missing (0.0%)     mean=423624.56 (SD=328161.88)                                                                    \n",
      "3 sequence_id (int):           0 missing (0.0%)     mean=11379.34 (SD=22730.82)                                                                      \n",
      "4 start_time (string):         0 missing (0.0%)     100 unique values                                                                                \n",
      "5 end_time (string):           43 missing (0.4%)    58 unique values                                                                                 \n",
      "6 ex_sequence_i... (int):      18 missing (0.2%)    mean=11990.39 (SD=24878.32)                                                                      \n",
      "7 problems_star... (int):      0 missing (0.0%)     mean=4.34 (SD=4.60)                                                                              \n",
      "8 problems_comp... (int):      0 missing (0.0%)     mean=4.10 (SD=4.68)                                                                              \n",
      "9 last_activity (string):      0 missing (0.0%)     100 unique values                                                                                \n",
      "10 mastery_spee... (int):      43 missing (0.4%)    mean=4.14 (SD=3.94)                                                                              \n",
      "11 inverse_mast... (float):    0 missing (0.0%)     mean=0.25 (SD=0.33)                                                                              \n",
      "12 complete (int):             0 missing (0.0%)     mean=0.57 (SD=0.50)                                                                              \n",
      "13 next_complet... (int):      12 missing (0.1%)    mean=0.56 (SD=0.50)                                                                              \n",
      "14 next_mastery... (int):      51 missing (0.5%)    mean=3.16 (SD=1.75)                                                                              \n",
      "15 next_inverse... (float):    12 missing (0.1%)    mean=0.26 (SD=0.34)                                                                              \n",
      "16 ex_complete (int):          30 missing (0.3%)    mean=0.60 (SD=0.49)                                                                              \n",
      "17 ex_mastery_s... (int):      58 missing (0.6%)    mean=3.21 (SD=1.78)                                                                              \n",
      "18 ex_inverse_m... (float):    30 missing (0.3%)    mean=0.28 (SD=0.34)                                                                              \n",
      "19 future_ex (int):            0 missing (0.0%)     mean=1.00 (SD=0.00)                                                                              \n",
      "20 is_test (int):              0 missing (0.0%)     mean=0.00 (SD=0.00)                                                                              \n",
      "21 root_problem... (float):    0 missing (0.0%)     mean=1.89 (SD=0.89)                                                                              \n",
      "22 root_problem... (float):    0 missing (0.0%)     mean=1.74 (SD=1.04)                                                                              \n",
      "23 root_inverse... (float):    0 missing (0.0%)     mean=0.35 (SD=0.36)                                                                              \n",
      "24 percent_corr... (float):    11 missing (0.1%)    mean=0.64 (SD=0.37)                                                                              \n",
      "25 root_percent... (float):    11 missing (0.1%)    mean=0.73 (SD=0.34)                                                                              \n",
      "26 root_avg_att... (float):    0 missing (0.0%)     mean=1.27 (SD=0.48)                                                                              \n",
      "27 avg_attempt_... (float):    11 missing (0.1%)    mean=0.88 (SD=0.22)                                                                              \n",
      "28 avg_bottomou... (float):    44 missing (0.4%)    mean=0.47 (SD=0.45)                                                                              \n",
      "29 avg_attempts (float):       0 missing (0.0%)     mean=1.84 (SD=0.80)                                                                              \n",
      "30 avg_first_re... (float):    0 missing (0.0%)     mean=260.96 (SD=187.90)                                                                          \n",
      "31 avg_problem_... (float):    0 missing (0.0%)     mean=44.45 (SD=222.93)                                                                           \n",
      "32 avg_working_... (int):      0 missing (0.0%)     mean=1.20 (SD=0.81)                                                                              \n",
      "================================================================================\n",
      "\n",
      "-- loading resources/experimental.csv...(100%)   \n",
      "================================================================================\n",
      "DESCRIPTIVES     100 Rows, 39 Columns   \n",
      "================================================================================\n",
      "0 is_experiment (int):         0 missing (0.0%)     mean=0.18 (SD=0.38)                                                                              \n",
      "1 user_id (int):               0 missing (0.0%)     mean=76092.92 (SD=1164.64)                                                                       \n",
      "2 assignment_id (int):         0 missing (0.0%)     mean=939936.88 (SD=24534.29)                                                                     \n",
      "3 sequence_id (int):           0 missing (0.0%)     mean=64403.56 (SD=91239.20)                                                                      \n",
      "4 id (int):                    0 missing (0.0%)     mean=5884.65 (SD=1676.16)                                                                        \n",
      "5 end_time (string):           8 missing (0.1%)     48 unique values                                                                                 \n",
      "6 ex_sequence_i... (int):      82 missing (0.8%)    mean=257483.56 (SD=4567.36)                                                                      \n",
      "7 problems_star... (int):      0 missing (0.0%)     mean=5.96 (SD=3.79)                                                                              \n",
      "8 problems_comp... (int):      0 missing (0.0%)     mean=5.88 (SD=3.79)                                                                              \n",
      "9 last_activity (string):      0 missing (0.0%)     51 unique values                                                                                 \n",
      "10 mastery_spee... (int):      8 missing (0.1%)     mean=5.58 (SD=3.14)                                                                              \n",
      "11 inverse_mast... (float):    0 missing (0.0%)     mean=0.20 (SD=0.10)                                                                              \n",
      "12 complete (int):             0 missing (0.0%)     mean=0.92 (SD=0.27)                                                                              \n",
      "13 next_complet... (int):      0 missing (0.0%)     mean=0.90 (SD=0.30)                                                                              \n",
      "14 next_mastery... (int):      10 missing (0.1%)    mean=5.22 (SD=2.65)                                                                              \n",
      "15 next_inverse... (float):    0 missing (0.0%)     mean=0.20 (SD=0.10)                                                                              \n",
      "16 ex_complete (int):          81 missing (0.8%)    mean=0.79 (SD=0.41)                                                                              \n",
      "17 ex_mastery_s... (int):      85 missing (0.8%)    mean=6.80 (SD=3.23)                                                                              \n",
      "18 ex_inverse_m... (float):    81 missing (0.8%)    mean=0.14 (SD=0.09)                                                                              \n",
      "19 future_ex (int):            0 missing (0.0%)     mean=2.66 (SD=1.40)                                                                              \n",
      "20 is_test (int):              0 missing (0.0%)     mean=1.00 (SD=0.00)                                                                              \n",
      "21 root_problem... (float):    0 missing (0.0%)     mean=2.35 (SD=0.66)                                                                              \n",
      "22 root_problem... (float):    0 missing (0.0%)     mean=2.33 (SD=0.67)                                                                              \n",
      "23 root_inverse... (float):    0 missing (0.0%)     mean=0.42 (SD=0.16)                                                                              \n",
      "24 percent_corr... (float):    0 missing (0.0%)     mean=0.73 (SD=0.22)                                                                              \n",
      "25 root_percent... (float):    0 missing (0.0%)     mean=0.84 (SD=0.17)                                                                              \n",
      "26 root_avg_att... (float):    0 missing (0.0%)     mean=1.45 (SD=0.12)                                                                              \n",
      "27 avg_attempt_... (float):    0 missing (0.0%)     mean=0.90 (SD=0.19)                                                                              \n",
      "28 avg_bottomou... (float):    0 missing (0.0%)     mean=0.12 (SD=0.16)                                                                              \n",
      "29 avg_attempts (float):       0 missing (0.0%)     mean=2.10 (SD=0.32)                                                                              \n",
      "30 avg_first_re... (float):    0 missing (0.0%)     mean=784.93 (SD=1122.69)                                                                         \n",
      "31 avg_problem_... (float):    0 missing (0.0%)     mean=39.97 (SD=60.16)                                                                            \n",
      "32 avg_working_... (int):      0 missing (0.0%)     mean=1.21 (SD=0.48)                                                                              \n",
      "33 experiment (int):           0 missing (0.0%)     mean=255794.08 (SD=8111.06)                                                                      \n",
      "34 next_is_expe... (int):      0 missing (0.0%)     mean=0.12 (SD=0.32)                                                                              \n",
      "35 seen_experim... (int):      0 missing (0.0%)     mean=0.00 (SD=0.00)                                                                              \n",
      "36 start_time (string):        0 missing (0.0%)     51 unique values                                                                                 \n",
      "37 id (int):                   0 missing (0.0%)     mean=5884.65 (SD=1676.16)                                                                        \n",
      "38 link (int):                 0 missing (0.0%)     mean=76093186048.00 (SD=1164638592.00)                                                              \n",
      "================================================================================\n",
      "\n"
     ]
    }
   ],
   "source": [
    "data, headers = du.read_csv('resources/remnant.csv', 100)\n",
    "du.print_descriptives(data, headers)\n",
    "\n",
    "data, headers = du.read_csv('resources/experimental.csv', 100)\n",
    "du.print_descriptives(data, headers)"
   ]
  },
  {
   "cell_type": "code",
   "execution_count": 4,
   "id": "a6a519f8",
   "metadata": {},
   "outputs": [
    {
     "name": "stdout",
     "output_type": "stream",
     "text": [
      "-- loading resources/remnant.csv...(100%)   \n",
      "-- preparing to format sequence from file...\n",
      "-- formatting sequence...(0.64%) "
     ]
    },
    {
     "name": "stderr",
     "output_type": "stream",
     "text": [
      "C:\\Users\\asalesl\\Google Drive\\iesJohannReloop\\reloopPaper\\Python Code\\Study_1\\lib\\tf_network.py:2001: VisibleDeprecationWarning: Creating an ndarray from ragged nested sequences (which is a list-or-tuple of lists-or-tuples-or ndarrays with different lengths or shapes) is deprecated. If you meant to do this, you must specify 'dtype=object' when creating the ndarray\n",
      "  seq['x'] = np.array(x)\n",
      "C:\\Users\\asalesl\\Google Drive\\iesJohannReloop\\reloopPaper\\Python Code\\Study_1\\lib\\tf_network.py:2003: VisibleDeprecationWarning: Creating an ndarray from ragged nested sequences (which is a list-or-tuple of lists-or-tuples-or ndarrays with different lengths or shapes) is deprecated. If you meant to do this, you must specify 'dtype=object' when creating the ndarray\n",
      "  seq['iden'] = np.array(id)\n"
     ]
    },
    {
     "name": "stdout",
     "output_type": "stream",
     "text": [
      "-- formatting sequence...(100%)   \n",
      "formatting identifiers...\n"
     ]
    },
    {
     "name": "stderr",
     "output_type": "stream",
     "text": [
      "C:\\Users\\asalesl\\anaconda3\\lib\\site-packages\\numpy\\core\\_asarray.py:136: VisibleDeprecationWarning: Creating an ndarray from ragged nested sequences (which is a list-or-tuple of lists-or-tuples-or ndarrays with different lengths or shapes) is deprecated. If you meant to do this, you must specify 'dtype=object' when creating the ndarray\n",
      "  return array(a, dtype, copy=False, order=order, subok=True)\n"
     ]
    },
    {
     "name": "stdout",
     "output_type": "stream",
     "text": [
      "formatting output labels...\n",
      "formatting feature columns...\n",
      "done!\n"
     ]
    }
   ],
   "source": [
    "seq = dict()\n",
    "\n",
    "key = [1]\n",
    "label = [[13], [15], [12]]\n",
    "cov = [7, 8, 11, 12, 21, 22, 23, 24, 25, 26, 27, 28, 29, 30, 31, 32]\n",
    "iden = [0, 2, 3, 6]\n",
    "sortby = [4]\n",
    "\n",
    "seq = tfnet.format_sequence_from_file('resources/remnant.csv',key,label,cov,iden,sortby)\n",
    "print('formatting identifiers...')\n",
    "seq['key'] = tfnet.fold_by_key(seq['key'], -1, 10)\n",
    "print('formatting output labels...')\n",
    "seq['y'] = tfnet.offset_multi_label(seq['y'],2,-1)\n",
    "print('formatting feature columns...')\n",
    "seq['x'] = tfnet.sequence_impute_missing(seq['x'])\n",
    "print('done!')"
   ]
  },
  {
   "cell_type": "code",
   "execution_count": 5,
   "id": "d6d96e38",
   "metadata": {},
   "outputs": [
    {
     "name": "stdout",
     "output_type": "stream",
     "text": [
      "-- loading resources/experimental.csv...(100%)   \n",
      "-- preparing to format sequence from file...\n",
      "-- formatting sequence...(100%)   \n",
      "formatting output labels...\n",
      "formatting feature columns...\n",
      "done!\n"
     ]
    }
   ],
   "source": [
    "seqt = dict()\n",
    "\n",
    "key = [33, 1]\n",
    "label = [[13], [15], [12]]\n",
    "cov = [7, 8, 11, 12, 21, 22, 23, 24, 25, 26, 27, 28, 29, 30, 31, 32]\n",
    "iden = [38, 34, 2, 3]\n",
    "sortby = [4]\n",
    "\n",
    "seqt = tfnet.format_sequence_from_file('resources/experimental.csv', key, label, cov, iden, sortby)\n",
    "print('formatting output labels...')\n",
    "seqt['y'] = tfnet.offset_multi_label(seqt['y'], 2, -1)\n",
    "seqt['y'] = tfnet.extract_from_multi_label(seqt['y'], [0, 1])\n",
    "print('formatting feature columns...')\n",
    "seqt['x'] = tfnet.sequence_impute_missing(seqt['x'])\n",
    "print('done!')"
   ]
  },
  {
   "cell_type": "code",
   "execution_count": 6,
   "id": "93c1d101",
   "metadata": {},
   "outputs": [
    {
     "name": "stdout",
     "output_type": "stream",
     "text": [
      "========================================\n",
      "======  Label Description  =============\n",
      "========================================\n",
      "-- Number of Samples: 130678\n",
      "-- Number of Label Sets: 2\n",
      "---- 1: 1 Label\n",
      "---- 2: 1 Label\n",
      "========================================\n",
      "\n"
     ]
    }
   ],
   "source": [
    "max_epochs = 200\n",
    "hidden = 50\n",
    "batch = 64\n",
    "keep = .5\n",
    "step = 5e-4\n",
    "threshold = .001\n",
    "optimizer = Optimizer.ADAM\n",
    "\n",
    "n_cov = len(seq['x'][0][0])\n",
    "seq['y'] = tfnet.extract_from_multi_label(seq['y'], [0, 1])\n",
    "desc = tfnet.describe_multi_label(seq['y'], True)\n",
    "\n",
    "exp = np.unique(seqt['key'].reshape((-1, len(key)))[:, 0])"
   ]
  },
  {
   "cell_type": "code",
   "execution_count": 7,
   "id": "1582972d",
   "metadata": {},
   "outputs": [
    {
     "ename": "RuntimeError",
     "evalue": "tf.placeholder() is not compatible with eager execution.",
     "output_type": "error",
     "traceback": [
      "\u001b[1;31m---------------------------------------------------------------------------\u001b[0m",
      "\u001b[1;31mRuntimeError\u001b[0m                              Traceback (most recent call last)",
      "\u001b[1;32m<ipython-input-7-6b08e290bfce>\u001b[0m in \u001b[0;36m<module>\u001b[1;34m\u001b[0m\n\u001b[0;32m      4\u001b[0m \u001b[1;33m\u001b[0m\u001b[0m\n\u001b[0;32m      5\u001b[0m \u001b[1;31m# build the model\u001b[0m\u001b[1;33m\u001b[0m\u001b[1;33m\u001b[0m\u001b[1;33m\u001b[0m\u001b[0m\n\u001b[1;32m----> 6\u001b[1;33m \u001b[0mnet\u001b[0m \u001b[1;33m=\u001b[0m \u001b[0mNetwork\u001b[0m\u001b[1;33m(\u001b[0m\u001b[1;34m'study1_model'\u001b[0m\u001b[1;33m)\u001b[0m\u001b[1;33m.\u001b[0m\u001b[0madd_input_layer\u001b[0m\u001b[1;33m(\u001b[0m\u001b[0mn_cov\u001b[0m\u001b[1;33m,\u001b[0m \u001b[0mnormalization\u001b[0m\u001b[1;33m=\u001b[0m\u001b[0mNormalization\u001b[0m\u001b[1;33m.\u001b[0m\u001b[0mZ_SCORE\u001b[0m\u001b[1;33m)\u001b[0m\u001b[1;33m\u001b[0m\u001b[1;33m\u001b[0m\u001b[0m\n\u001b[0m\u001b[0;32m      7\u001b[0m \u001b[0mnet\u001b[0m\u001b[1;33m.\u001b[0m\u001b[0madd_lstm_layer\u001b[0m\u001b[1;33m(\u001b[0m\u001b[0mhidden\u001b[0m\u001b[1;33m,\u001b[0m \u001b[0mpeepholes\u001b[0m\u001b[1;33m=\u001b[0m\u001b[1;32mTrue\u001b[0m\u001b[1;33m,\u001b[0m \u001b[0mactivation\u001b[0m\u001b[1;33m=\u001b[0m\u001b[0mtf\u001b[0m\u001b[1;33m.\u001b[0m\u001b[0mnn\u001b[0m\u001b[1;33m.\u001b[0m\u001b[0mleaky_relu\u001b[0m\u001b[1;33m)\u001b[0m\u001b[1;33m\u001b[0m\u001b[1;33m\u001b[0m\u001b[0m\n\u001b[0;32m      8\u001b[0m net.begin_multi_output(cost_methods=[Cost.BINARY_CROSS_ENTROPY,\n",
      "\u001b[1;32m~\\Google Drive\\iesJohannReloop\\reloopPaper\\Python Code\\Study_1\\lib\\tf_network2.py\u001b[0m in \u001b[0;36madd_input_layer\u001b[1;34m(self, n, normalization)\u001b[0m\n\u001b[0;32m    176\u001b[0m         \u001b[1;32mwith\u001b[0m \u001b[0mtf\u001b[0m\u001b[1;33m.\u001b[0m\u001b[0mcompat\u001b[0m\u001b[1;33m.\u001b[0m\u001b[0mv1\u001b[0m\u001b[1;33m.\u001b[0m\u001b[0mvariable_scope\u001b[0m\u001b[1;33m(\u001b[0m\u001b[0mself\u001b[0m\u001b[1;33m.\u001b[0m\u001b[0mscope_name\u001b[0m\u001b[1;33m)\u001b[0m\u001b[1;33m:\u001b[0m\u001b[1;33m\u001b[0m\u001b[1;33m\u001b[0m\u001b[0m\n\u001b[0;32m    177\u001b[0m             \u001b[0mlayer\u001b[0m\u001b[1;33m[\u001b[0m\u001b[1;34m'n'\u001b[0m\u001b[1;33m]\u001b[0m \u001b[1;33m=\u001b[0m \u001b[0mn\u001b[0m\u001b[1;33m\u001b[0m\u001b[1;33m\u001b[0m\u001b[0m\n\u001b[1;32m--> 178\u001b[1;33m             \u001b[0mlayer\u001b[0m\u001b[1;33m[\u001b[0m\u001b[1;34m'z'\u001b[0m\u001b[1;33m]\u001b[0m \u001b[1;33m=\u001b[0m \u001b[0mtf\u001b[0m\u001b[1;33m.\u001b[0m\u001b[0mcompat\u001b[0m\u001b[1;33m.\u001b[0m\u001b[0mv1\u001b[0m\u001b[1;33m.\u001b[0m\u001b[0mplaceholder\u001b[0m\u001b[1;33m(\u001b[0m\u001b[0mtf\u001b[0m\u001b[1;33m.\u001b[0m\u001b[0mcompat\u001b[0m\u001b[1;33m.\u001b[0m\u001b[0mv1\u001b[0m\u001b[1;33m.\u001b[0m\u001b[0mfloat32\u001b[0m\u001b[1;33m,\u001b[0m \u001b[1;33m[\u001b[0m\u001b[1;32mNone\u001b[0m\u001b[1;33m,\u001b[0m \u001b[1;32mNone\u001b[0m\u001b[1;33m,\u001b[0m \u001b[0mn\u001b[0m\u001b[1;33m]\u001b[0m\u001b[1;33m,\u001b[0m \u001b[0mname\u001b[0m\u001b[1;33m=\u001b[0m\u001b[1;34m'x'\u001b[0m\u001b[1;33m)\u001b[0m\u001b[1;33m\u001b[0m\u001b[1;33m\u001b[0m\u001b[0m\n\u001b[0m\u001b[0;32m    179\u001b[0m             layer['param'] = {'w': None, 'b': None, 'type': 'input',\n\u001b[0;32m    180\u001b[0m                               'arg': {'stat1': tf.compat.v1.placeholder_with_default(tf.compat.v1.zeros([n]), shape=[n],\n",
      "\u001b[1;32m~\\anaconda3\\lib\\site-packages\\tensorflow\\python\\ops\\array_ops.py\u001b[0m in \u001b[0;36mplaceholder\u001b[1;34m(dtype, shape, name)\u001b[0m\n\u001b[0;32m   3266\u001b[0m   \"\"\"\n\u001b[0;32m   3267\u001b[0m   \u001b[1;32mif\u001b[0m \u001b[0mcontext\u001b[0m\u001b[1;33m.\u001b[0m\u001b[0mexecuting_eagerly\u001b[0m\u001b[1;33m(\u001b[0m\u001b[1;33m)\u001b[0m\u001b[1;33m:\u001b[0m\u001b[1;33m\u001b[0m\u001b[1;33m\u001b[0m\u001b[0m\n\u001b[1;32m-> 3268\u001b[1;33m     raise RuntimeError(\"tf.placeholder() is not compatible with \"\n\u001b[0m\u001b[0;32m   3269\u001b[0m                        \"eager execution.\")\n\u001b[0;32m   3270\u001b[0m \u001b[1;33m\u001b[0m\u001b[0m\n",
      "\u001b[1;31mRuntimeError\u001b[0m: tf.placeholder() is not compatible with eager execution."
     ]
    }
   ],
   "source": [
    "tf.compat.v1.reset_default_graph()\n",
    "tf.compat.v1.set_random_seed(1)\n",
    "np.random.seed(1)\n",
    "\n",
    "# build the model\n",
    "net = Network('study1_model').add_input_layer(n_cov, normalization=Normalization.Z_SCORE)\n",
    "net.add_lstm_layer(hidden, peepholes=True, activation=tf.nn.leaky_relu)\n",
    "net.begin_multi_output(cost_methods=[Cost.BINARY_CROSS_ENTROPY,\n",
    "                                     Cost.RMSE])\n",
    "net.add_dropout_layer(1, keep=keep, activation=tf.nn.sigmoid)\n",
    "net.add_dropout_layer(1, keep=keep, activation=tf.identity)\n",
    "net.end_multi_output()\n",
    "\n",
    "# set defaults\n",
    "net.set_default_cost_method(Cost.BINARY_CROSS_ENTROPY)\n",
    "net.set_optimizer(optimizer)\n",
    "\n",
    "# train the model and save the trained weights\n",
    "net.train(x=seq['x'],\n",
    "          y=seq['y'],\n",
    "          step=step,\n",
    "          use_validation=True,\n",
    "          max_epochs=max_epochs, threshold=threshold, batch=batch)"
   ]
  },
  {
   "cell_type": "code",
   "execution_count": null,
   "id": "498d300c",
   "metadata": {},
   "outputs": [],
   "source": [
    "net.save_model_weights()      # comment to use a previously-saved model\n",
    "#\n",
    "# net.build()                 # uncomment to use previously-saved model\n",
    "# net.restore_model_weights() # uncomment to use previously-saved model"
   ]
  },
  {
   "cell_type": "code",
   "execution_count": null,
   "id": "0ee637f7",
   "metadata": {},
   "outputs": [],
   "source": [
    "for e in range(len(exp)):\n",
    "    print('formatting model predictions for experiment {}'.format(exp[e]))\n",
    "    test = np.argwhere(seqt['key'].reshape((-1, len(key)))[:, 0] == exp[e]).ravel()\n",
    "\n",
    "    pred = net.predict(x=seqt['x'][test], batch=1024)\n",
    "\n",
    "    fold_pred = tfnet.flatten_sequence(seqt['y'][test], key=seqt['key'].reshape((-1, len(key)))[test], identifier=seqt['iden'][test])\n",
    "\n",
    "    for p in range(len(pred)):\n",
    "        tr_max = 1\n",
    "        tr_min = 0\n",
    "        upperbound = 1 if p == 0 else 0.333\n",
    "\n",
    "        # and apply it to the experimental predictions\n",
    "        fold_pred = np.append(fold_pred,\n",
    "                              ((tfnet.flatten_sequence(pred[p]) - tr_min) / (tr_max - tr_min)) * upperbound,\n",
    "                              axis=1)\n",
    "\n",
    "    hdr = np.array(headers)[iden]\n",
    "    hdr = np.append(hdr, np.array(headers)[key])\n",
    "\n",
    "    hdr = np.append(hdr, ['complete', 'inv_mastery', 'p_complete', 'p_inv_mastery'])\n",
    "    du.write_csv(fold_pred, 'model_predictions.csv', hdr if e == 0 else None, append=e > 0)\n",
    "print('done!')"
   ]
  },
  {
   "cell_type": "code",
   "execution_count": null,
   "id": "a949afed",
   "metadata": {},
   "outputs": [],
   "source": [
    "import graph_def_editor as graph_editor\n",
    "import lib.datautility as du\n",
    "import warnings\n",
    "import time\n",
    "import csv\n",
    "import sys\n",
    "import os\n",
    "import pandas as pd\n",
    "\n",
    "session_info.show()"
   ]
  },
  {
   "cell_type": "code",
   "execution_count": null,
   "id": "21dcf596",
   "metadata": {},
   "outputs": [],
   "source": [
    "net.session.close()"
   ]
  },
  {
   "cell_type": "code",
   "execution_count": null,
   "id": "3e2f8ff2",
   "metadata": {},
   "outputs": [],
   "source": []
  }
 ],
 "metadata": {
  "kernelspec": {
   "display_name": "Python 3",
   "language": "python",
   "name": "python3"
  },
  "language_info": {
   "codemirror_mode": {
    "name": "ipython",
    "version": 3
   },
   "file_extension": ".py",
   "mimetype": "text/x-python",
   "name": "python",
   "nbconvert_exporter": "python",
   "pygments_lexer": "ipython3",
   "version": "3.8.8"
  }
 },
 "nbformat": 4,
 "nbformat_minor": 5
}
