{
 "cells": [
  {
   "cell_type": "code",
   "execution_count": 1,
   "id": "939134e4",
   "metadata": {
    "scrolled": false
   },
   "outputs": [
    {
     "name": "stderr",
     "output_type": "stream",
     "text": [
      "c:\\users\\anthony\\appdata\\local\\programs\\python\\python37\\lib\\site-packages\\tensorflow\\python\\framework\\dtypes.py:516: FutureWarning: Passing (type, 1) or '1type' as a synonym of type is deprecated; in a future version of numpy, it will be understood as (type, (1,)) / '(1,)type'.\n",
      "  _np_qint8 = np.dtype([(\"qint8\", np.int8, 1)])\n",
      "c:\\users\\anthony\\appdata\\local\\programs\\python\\python37\\lib\\site-packages\\tensorflow\\python\\framework\\dtypes.py:517: FutureWarning: Passing (type, 1) or '1type' as a synonym of type is deprecated; in a future version of numpy, it will be understood as (type, (1,)) / '(1,)type'.\n",
      "  _np_quint8 = np.dtype([(\"quint8\", np.uint8, 1)])\n",
      "c:\\users\\anthony\\appdata\\local\\programs\\python\\python37\\lib\\site-packages\\tensorflow\\python\\framework\\dtypes.py:518: FutureWarning: Passing (type, 1) or '1type' as a synonym of type is deprecated; in a future version of numpy, it will be understood as (type, (1,)) / '(1,)type'.\n",
      "  _np_qint16 = np.dtype([(\"qint16\", np.int16, 1)])\n",
      "c:\\users\\anthony\\appdata\\local\\programs\\python\\python37\\lib\\site-packages\\tensorflow\\python\\framework\\dtypes.py:519: FutureWarning: Passing (type, 1) or '1type' as a synonym of type is deprecated; in a future version of numpy, it will be understood as (type, (1,)) / '(1,)type'.\n",
      "  _np_quint16 = np.dtype([(\"quint16\", np.uint16, 1)])\n",
      "c:\\users\\anthony\\appdata\\local\\programs\\python\\python37\\lib\\site-packages\\tensorflow\\python\\framework\\dtypes.py:520: FutureWarning: Passing (type, 1) or '1type' as a synonym of type is deprecated; in a future version of numpy, it will be understood as (type, (1,)) / '(1,)type'.\n",
      "  _np_qint32 = np.dtype([(\"qint32\", np.int32, 1)])\n",
      "c:\\users\\anthony\\appdata\\local\\programs\\python\\python37\\lib\\site-packages\\tensorflow\\python\\framework\\dtypes.py:525: FutureWarning: Passing (type, 1) or '1type' as a synonym of type is deprecated; in a future version of numpy, it will be understood as (type, (1,)) / '(1,)type'.\n",
      "  np_resource = np.dtype([(\"resource\", np.ubyte, 1)])\n",
      "c:\\users\\anthony\\appdata\\local\\programs\\python\\python37\\lib\\site-packages\\tensorboard\\compat\\tensorflow_stub\\dtypes.py:541: FutureWarning: Passing (type, 1) or '1type' as a synonym of type is deprecated; in a future version of numpy, it will be understood as (type, (1,)) / '(1,)type'.\n",
      "  _np_qint8 = np.dtype([(\"qint8\", np.int8, 1)])\n",
      "c:\\users\\anthony\\appdata\\local\\programs\\python\\python37\\lib\\site-packages\\tensorboard\\compat\\tensorflow_stub\\dtypes.py:542: FutureWarning: Passing (type, 1) or '1type' as a synonym of type is deprecated; in a future version of numpy, it will be understood as (type, (1,)) / '(1,)type'.\n",
      "  _np_quint8 = np.dtype([(\"quint8\", np.uint8, 1)])\n",
      "c:\\users\\anthony\\appdata\\local\\programs\\python\\python37\\lib\\site-packages\\tensorboard\\compat\\tensorflow_stub\\dtypes.py:543: FutureWarning: Passing (type, 1) or '1type' as a synonym of type is deprecated; in a future version of numpy, it will be understood as (type, (1,)) / '(1,)type'.\n",
      "  _np_qint16 = np.dtype([(\"qint16\", np.int16, 1)])\n",
      "c:\\users\\anthony\\appdata\\local\\programs\\python\\python37\\lib\\site-packages\\tensorboard\\compat\\tensorflow_stub\\dtypes.py:544: FutureWarning: Passing (type, 1) or '1type' as a synonym of type is deprecated; in a future version of numpy, it will be understood as (type, (1,)) / '(1,)type'.\n",
      "  _np_quint16 = np.dtype([(\"quint16\", np.uint16, 1)])\n",
      "c:\\users\\anthony\\appdata\\local\\programs\\python\\python37\\lib\\site-packages\\tensorboard\\compat\\tensorflow_stub\\dtypes.py:545: FutureWarning: Passing (type, 1) or '1type' as a synonym of type is deprecated; in a future version of numpy, it will be understood as (type, (1,)) / '(1,)type'.\n",
      "  _np_qint32 = np.dtype([(\"qint32\", np.int32, 1)])\n",
      "c:\\users\\anthony\\appdata\\local\\programs\\python\\python37\\lib\\site-packages\\tensorboard\\compat\\tensorflow_stub\\dtypes.py:550: FutureWarning: Passing (type, 1) or '1type' as a synonym of type is deprecated; in a future version of numpy, it will be understood as (type, (1,)) / '(1,)type'.\n",
      "  np_resource = np.dtype([(\"resource\", np.ubyte, 1)])\n"
     ]
    }
   ],
   "source": [
    "import numpy as np\n",
    "import lib.datautility as du\n",
    "import lib.evaluationutility as eu\n",
    "import lib.tf_network as tfnet\n",
    "from lib.tf_network2 import Optimizer, Cost, Network, Normalization\n",
    "import tensorflow as tf\n",
    "import time\n",
    "import os\n",
    "import session_info"
   ]
  },
  {
   "cell_type": "code",
   "execution_count": 2,
   "id": "537d035e",
   "metadata": {},
   "outputs": [
    {
     "name": "stdout",
     "output_type": "stream",
     "text": [
      "-- loading resources/remnant.csv...(100%)   \n",
      "================================================================================\n",
      "DESCRIPTIVES     100 Rows, 27 Columns   \n",
      "================================================================================\n",
      "0 sequence_id_t... (int):      0 missing (0.0%)     mean=5969.00 (SD=0.00)                                                                           \n",
      "1 student_user_... (int):      0 missing (0.0%)     mean=73142.34 (SD=3621.97)                                                                       \n",
      "2 target_assign... (int):      0 missing (0.0%)     mean=216684.95 (SD=0.05)                                                                         \n",
      "3 target_assign... (int):      0 missing (0.0%)     mean=0.59 (SD=0.49)                                                                              \n",
      "4 prior_assignm... (int):      0 missing (0.0%)     mean=216679.72 (SD=6.26)                                                                         \n",
      "5 prior_assignm... (string):   0 missing (0.0%)     100 unique values                                                                                \n",
      "6 prior_assignm... (int):      0 missing (0.0%)     mean=4.43 (SD=2.54)                                                                              \n",
      "7 prior_assignm... (int):      0 missing (0.0%)     mean=6.41 (SD=4.47)                                                                              \n",
      "8 duplicate_use... (int):      0 missing (0.0%)     mean=73142.34 (SD=3621.97)                                                                       \n",
      "9 duplicate_ass... (int):      0 missing (0.0%)     mean=216679.72 (SD=6.26)                                                                         \n",
      "10 prior_assign... (int):      0 missing (0.0%)     mean=0.80 (SD=0.40)                                                                              \n",
      "11 prior_proble... (int):      0 missing (0.0%)     mean=1.00 (SD=0.00)                                                                              \n",
      "12 orig_method_... (int):      0 missing (0.0%)     mean=3.43 (SD=3.08)                                                                              \n",
      "13 orig_method_... (int):      0 missing (0.0%)     mean=3.26 (SD=3.13)                                                                              \n",
      "14 orig_method_... (float):    0 missing (0.0%)     mean=0.72 (SD=0.36)                                                                              \n",
      "15 orig_method_... (float):    0 missing (0.0%)     mean=2.07 (SD=8.05)                                                                              \n",
      "16 orig_method_... (float):    0 missing (0.0%)     mean=58.05 (SD=53.16)                                                                            \n",
      "17 orig_method_... (float):    0 missing (0.0%)     mean=-6.65 (SD=89.05)                                                                            \n",
      "18 orig_method_... (int):      0 missing (0.0%)     mean=1.08 (SD=0.27)                                                                              \n",
      "19 orig_method_... (float):    0 missing (0.0%)     mean=0.87 (SD=0.30)                                                                              \n",
      "20 orig_method_... (float):    0 missing (0.0%)     mean=0.06 (SD=0.18)                                                                              \n",
      "21 orig_method_... (float):    0 missing (0.0%)     mean=0.36 (SD=0.29)                                                                              \n",
      "22 orig_method_... (float):    0 missing (0.0%)     mean=0.51 (SD=0.31)                                                                              \n",
      "23 orig_method_... (float):    0 missing (0.0%)     mean=1.72 (SD=0.68)                                                                              \n",
      "24 orig_method_... (float):    0 missing (0.0%)     mean=1.61 (SD=0.82)                                                                              \n",
      "25 orig_method_... (float):    0 missing (0.0%)     mean=0.78 (SD=0.34)                                                                              \n",
      "26 orig_method_... (float):    0 missing (0.0%)     mean=1.12 (SD=0.91)                                                                              \n",
      "================================================================================\n",
      "\n",
      "-- loading resources/experimental.csv...(100%)   \n",
      "================================================================================\n",
      "DESCRIPTIVES     100 Rows, 27 Columns   \n",
      "================================================================================\n",
      "0 sequence_id_t... (int):      0 missing (0.0%)     mean=694143.06 (SD=0.06)                                                                         \n",
      "1 student_user_... (int):      0 missing (0.0%)     mean=292142.50 (SD=48116.09)                                                                     \n",
      "2 target_assign... (int):      0 missing (0.0%)     mean=1667278.12 (SD=0.12)                                                                        \n",
      "3 target_assign... (int):      0 missing (0.0%)     mean=0.80 (SD=0.40)                                                                              \n",
      "4 prior_assignm... (int):      0 missing (0.0%)     mean=1662932.50 (SD=3731.20)                                                                     \n",
      "5 prior_assignm... (string):   0 missing (0.0%)     100 unique values                                                                                \n",
      "6 prior_assignm... (int):      0 missing (0.0%)     mean=5.50 (SD=2.87)                                                                              \n",
      "7 prior_assignm... (int):      0 missing (0.0%)     mean=10.70 (SD=3.80)                                                                             \n",
      "8 duplicate_use... (int):      0 missing (0.0%)     mean=292142.50 (SD=48116.09)                                                                     \n",
      "9 duplicate_ass... (int):      0 missing (0.0%)     mean=1662932.50 (SD=3731.20)                                                                     \n",
      "10 prior_assign... (int):      0 missing (0.0%)     mean=0.97 (SD=0.17)                                                                              \n",
      "11 prior_proble... (int):      0 missing (0.0%)     mean=0.92 (SD=0.27)                                                                              \n",
      "12 orig_method_... (int):      0 missing (0.0%)     mean=3.54 (SD=1.45)                                                                              \n",
      "13 orig_method_... (int):      0 missing (0.0%)     mean=3.51 (SD=1.47)                                                                              \n",
      "14 orig_method_... (float):    0 missing (0.0%)     mean=0.90 (SD=0.21)                                                                              \n",
      "15 orig_method_... (float):    0 missing (0.0%)     mean=1.10 (SD=0.31)                                                                              \n",
      "16 orig_method_... (float):    0 missing (0.0%)     mean=12179.87 (SD=84660.65)                                                                      \n",
      "17 orig_method_... (float):    0 missing (0.0%)     mean=35.29 (SD=29.09)                                                                            \n",
      "18 orig_method_... (int):      0 missing (0.0%)     mean=1.04 (SD=0.20)                                                                              \n",
      "19 orig_method_... (float):    0 missing (0.0%)     mean=0.98 (SD=0.12)                                                                              \n",
      "20 orig_method_... (float):    0 missing (0.0%)     mean=0.00 (SD=0.02)                                                                              \n",
      "21 orig_method_... (float):    0 missing (0.0%)     mean=0.31 (SD=0.13)                                                                              \n",
      "22 orig_method_... (float):    0 missing (0.0%)     mean=0.54 (SD=0.13)                                                                              \n",
      "23 orig_method_... (float):    0 missing (0.0%)     mean=1.85 (SD=0.36)                                                                              \n",
      "24 orig_method_... (float):    0 missing (0.0%)     mean=1.83 (SD=0.40)                                                                              \n",
      "25 orig_method_... (float):    0 missing (0.0%)     mean=0.93 (SD=0.18)                                                                              \n",
      "26 orig_method_... (float):    0 missing (0.0%)     mean=1.04 (SD=0.15)                                                                              \n",
      "================================================================================\n",
      "\n"
     ]
    }
   ],
   "source": [
    "data, headers = du.read_csv('resources/remnant.csv', max_rows=100)\n",
    "du.print_descriptives(data, headers)\n",
    "\n",
    "\n",
    "data, headers = du.read_csv('resources/experimental.csv', max_rows=100)\n",
    "du.print_descriptives(data, headers)"
   ]
  },
  {
   "cell_type": "code",
   "execution_count": 3,
   "id": "856dc238",
   "metadata": {},
   "outputs": [
    {
     "name": "stdout",
     "output_type": "stream",
     "text": [
      "-- loading resources/remnant.csv...(100%)   \n",
      "-- preparing to format sequence from file...\n",
      "-- formatting sequence...(0.32%) "
     ]
    },
    {
     "name": "stderr",
     "output_type": "stream",
     "text": [
      "C:\\Users\\Anthony\\Projects\\Rebar\\Replication\\Study_2\\lib\\tf_network.py:2000: VisibleDeprecationWarning: Creating an ndarray from ragged nested sequences (which is a list-or-tuple of lists-or-tuples-or ndarrays with different lengths or shapes) is deprecated. If you meant to do this, you must specify 'dtype=object' when creating the ndarray\n",
      "  seq['x'] = np.array(x)\n",
      "C:\\Users\\Anthony\\Projects\\Rebar\\Replication\\Study_2\\lib\\tf_network.py:2002: VisibleDeprecationWarning: Creating an ndarray from ragged nested sequences (which is a list-or-tuple of lists-or-tuples-or ndarrays with different lengths or shapes) is deprecated. If you meant to do this, you must specify 'dtype=object' when creating the ndarray\n",
      "  seq['iden'] = np.array(id)\n"
     ]
    },
    {
     "name": "stdout",
     "output_type": "stream",
     "text": [
      "-- formatting sequence...(100%)   \n"
     ]
    },
    {
     "name": "stderr",
     "output_type": "stream",
     "text": [
      "c:\\users\\anthony\\appdata\\local\\programs\\python\\python37\\lib\\site-packages\\numpy\\core\\_asarray.py:136: VisibleDeprecationWarning: Creating an ndarray from ragged nested sequences (which is a list-or-tuple of lists-or-tuples-or ndarrays with different lengths or shapes) is deprecated. If you meant to do this, you must specify 'dtype=object' when creating the ndarray\n",
      "  return array(a, dtype, copy=False, order=order, subok=True)\n"
     ]
    },
    {
     "name": "stdout",
     "output_type": "stream",
     "text": [
      "formatting feature columns...\n",
      "formatting output labels...\n",
      "done!\n"
     ]
    }
   ],
   "source": [
    "key = [1,2,0]\n",
    "iden = [4]\n",
    "cov = [10,11,12,13,14,15,16,17,18,19,20,21,22,23,24,25,26]\n",
    "lab = [[3]]\n",
    "order = 7\n",
    "\n",
    "seq = tfnet.format_sequence_from_file('resources/remnant.csv',\n",
    "                                          key,lab,cov,iden,order)\n",
    "print('formatting feature columns...')\n",
    "for i in range(len(seq['x'])):\n",
    "    for j in range(len(seq['x'][i])):\n",
    "        try:\n",
    "            seq['x'][i][j] = np.array(seq['x'][i][j], dtype=np.float32)\n",
    "        except TypeError:\n",
    "            print('error...')\n",
    "            print(seq['x'][i])\n",
    "            exit(1)\n",
    "seq['x'] = tfnet.sequence_impute_missing(seq['x'])\n",
    "\n",
    "print('formatting output labels...')\n",
    "seq['y'] = tfnet.use_last_multi_label(seq['y'], 0)\n",
    "\n",
    "print('done!')"
   ]
  },
  {
   "cell_type": "code",
   "execution_count": 4,
   "id": "dd9c3b28",
   "metadata": {},
   "outputs": [
    {
     "name": "stdout",
     "output_type": "stream",
     "text": [
      "-- loading resources/experimental.csv...(100%)   \n",
      "-- preparing to format sequence from file...\n",
      "-- formatting sequence...(100%)   \n",
      "formatting feature columns...\n",
      "formatting output labels...\n",
      "done!\n"
     ]
    }
   ],
   "source": [
    "key = [1,2,0]\n",
    "iden = [4]\n",
    "cov = [10,11,12,13,14,15,16,17,18,19,20,21,22,23,24,25,26]\n",
    "lab = [[3]]\n",
    "order = 7\n",
    "\n",
    "seqex = tfnet.format_sequence_from_file('resources/experimental.csv',\n",
    "                                          key,lab,cov,iden,order)\n",
    "print('formatting feature columns...')\n",
    "for i in range(len(seqex['x'])):\n",
    "    for j in range(len(seqex['x'][i])):\n",
    "        try:\n",
    "            seqex['x'][i][j] = np.array(seqex['x'][i][j], dtype=np.float32)\n",
    "        except TypeError:\n",
    "            print('error...')\n",
    "            print(seqex['x'][i])\n",
    "            exit(1)\n",
    "seqex['x'] = tfnet.sequence_impute_missing(seqex['x'])\n",
    "\n",
    "print('formatting output labels...')\n",
    "seqex['y'] = tfnet.use_last_multi_label(seqex['y'], 0)\n",
    "\n",
    "print('done!')"
   ]
  },
  {
   "cell_type": "code",
   "execution_count": 5,
   "id": "53fabf51",
   "metadata": {},
   "outputs": [
    {
     "name": "stdout",
     "output_type": "stream",
     "text": [
      "========================================\n",
      "======  Label Description  =============\n",
      "========================================\n",
      "-- Number of Samples: 129835\n",
      "-- Number of Label Sets: 1\n",
      "---- 1: 1 Label\n",
      "========================================\n",
      "\n"
     ]
    },
    {
     "data": {
      "text/plain": [
       "{'n_samples': 129835, 'n_label_sets': 1, 'n_labels': [1]}"
      ]
     },
     "execution_count": 5,
     "metadata": {},
     "output_type": "execute_result"
    }
   ],
   "source": [
    "n_cov = len(seq['x'][0][0])\n",
    "\n",
    "max_epochs = 200\n",
    "use_validation = True\n",
    "hidden = [50]\n",
    "batch = [64]\n",
    "layers = [1]\n",
    "keep = [.5]\n",
    "step = [1e-3]\n",
    "perf = []\n",
    "threshold = [0.0001]\n",
    "optimizer = [Optimizer.ADAM]\n",
    "\n",
    "tfnet.describe_multi_label(seq['y'], True)"
   ]
  },
  {
   "cell_type": "code",
   "execution_count": 6,
   "id": "702efca7",
   "metadata": {},
   "outputs": [
    {
     "name": "stdout",
     "output_type": "stream",
     "text": [
      "WARNING:tensorflow:From C:\\Users\\Anthony\\Projects\\Rebar\\Replication\\Study_2\\lib\\tf_network.py:96: The name tf.get_default_graph is deprecated. Please use tf.compat.v1.get_default_graph instead.\n",
      "\n",
      "WARNING:tensorflow:From C:\\Users\\Anthony\\Projects\\Rebar\\Replication\\Study_2\\lib\\tf_network.py:98: The name tf.InteractiveSession is deprecated. Please use tf.compat.v1.InteractiveSession instead.\n",
      "\n",
      "WARNING:tensorflow:From C:\\Users\\Anthony\\Projects\\Rebar\\Replication\\Study_2\\lib\\tf_network.py:98: The name tf.ConfigProto is deprecated. Please use tf.compat.v1.ConfigProto instead.\n",
      "\n",
      "WARNING:tensorflow:From C:\\Users\\Anthony\\Projects\\Rebar\\Replication\\Study_2\\lib\\tf_network.py:175: The name tf.variable_scope is deprecated. Please use tf.compat.v1.variable_scope instead.\n",
      "\n",
      "WARNING:tensorflow:From C:\\Users\\Anthony\\Projects\\Rebar\\Replication\\Study_2\\lib\\tf_network.py:177: The name tf.placeholder is deprecated. Please use tf.compat.v1.placeholder instead.\n",
      "\n",
      "WARNING:tensorflow:From C:\\Users\\Anthony\\Projects\\Rebar\\Replication\\Study_2\\lib\\tf_network.py:672: calling dropout (from tensorflow.python.ops.nn_ops) with keep_prob is deprecated and will be removed in a future version.\n",
      "Instructions for updating:\n",
      "Please use `rate` instead of `keep_prob`. Rate should be set to `rate = 1 - keep_prob`.\n",
      "WARNING - Incomplete validation set information was provided. Using default 70/30% split.\n",
      "WARNING:tensorflow:From C:\\Users\\Anthony\\Projects\\Rebar\\Replication\\Study_2\\lib\\tf_network.py:787: add_dispatch_support.<locals>.wrapper (from tensorflow.python.ops.array_ops) is deprecated and will be removed in a future version.\n",
      "Instructions for updating:\n",
      "Use tf.where in 2.0, which has the same broadcast rule as np.where\n",
      "WARNING:tensorflow:From C:\\Users\\Anthony\\Projects\\Rebar\\Replication\\Study_2\\lib\\tf_network.py:951: The name tf.train.AdamOptimizer is deprecated. Please use tf.compat.v1.train.AdamOptimizer instead.\n",
      "\n",
      "========================================\n",
      "            Training Network            \n",
      "========================================\n",
      "-3 layers: 17n -> 50n -> 1n\n",
      "-200 epochs\n",
      "-step size = 0.001\n",
      "-batch size = 64\n",
      "==================================================\n",
      "Epoch        Cost    Val Cost   Delta         Time\n",
      "==================================================\n"
     ]
    },
    {
     "name": "stderr",
     "output_type": "stream",
     "text": [
      "C:\\Users\\Anthony\\Projects\\Rebar\\Replication\\Study_2\\lib\\tf_network.py:1047: VisibleDeprecationWarning: Creating an ndarray from ragged nested sequences (which is a list-or-tuple of lists-or-tuples-or ndarrays with different lengths or shapes) is deprecated. If you meant to do this, you must specify 'dtype=object' when creating the ndarray\n",
      "  np.array([a[i] for a in series_label])]).reshape((len(series_batch), n_timestep, -1)))\n"
     ]
    },
    {
     "name": "stdout",
     "output_type": "stream",
     "text": [
      "Epoch 1     0.3912    0.2660    0.0000      119.6s\n",
      "Epoch 2     0.3699    0.2648    0.0006      120.4s\n",
      "Epoch 3     0.3664    0.2631    0.0008      100.3s\n",
      "Epoch 4     0.3650    0.2615    0.0008      100.7s\n",
      "Epoch 5     0.3640    0.2602    0.0007       99.6s\n",
      "Epoch 6     0.3627    0.2600    0.0012      100.6s\n",
      "Epoch 7     0.3617    0.2594    0.0011      100.6s\n",
      "Epoch 8     0.3607    0.2602    0.0006      101.0s\n",
      "Epoch 9     0.3601    0.2608    0.0001      100.4s\n",
      "Epoch 10    0.3595    0.2602    0.0000      100.6s\n",
      "==================================================\n",
      "Total Time: 1043.8s\n"
     ]
    }
   ],
   "source": [
    "tf.reset_default_graph()\n",
    "tf.set_random_seed(1)\n",
    "np.random.seed(1)\n",
    "\n",
    "net = Network('study2_model').add_input_layer(n_cov, normalization=Normalization.Z_SCORE)\n",
    "net.add_lstm_layer(hidden[0], peepholes=True)\n",
    "\n",
    "net.begin_multi_output(cost_methods=[Cost.BINARY_CROSS_ENTROPY])\n",
    "net.add_dropout_layer(1, keep=keep[0], activation=tf.nn.sigmoid)\n",
    "net.end_multi_output()\n",
    "\n",
    "net.set_default_cost_method(Cost.CROSS_ENTROPY)\n",
    "net.set_optimizer(optimizer[0])\n",
    "\n",
    "net.train(x=seq['x'],\n",
    "          y=seq['y'],\n",
    "          step=step[0],\n",
    "          use_validation=True,\n",
    "          max_epochs=max_epochs, threshold=threshold[0], batch=batch[0])"
   ]
  },
  {
   "cell_type": "code",
   "execution_count": 7,
   "id": "6775b646",
   "metadata": {},
   "outputs": [
    {
     "name": "stdout",
     "output_type": "stream",
     "text": [
      "WARNING:tensorflow:From C:\\Users\\Anthony\\Projects\\Rebar\\Replication\\Study_2\\lib\\tf_network.py:982: The name tf.train.Saver is deprecated. Please use tf.compat.v1.train.Saver instead.\n",
      "\n"
     ]
    }
   ],
   "source": [
    "net.save_model_weights()      # comment to use a previously-saved model\n",
    "#\n",
    "# net.build()                 # uncomment to use previously-saved model\n",
    "# net.restore_model_weights() # uncomment to use previously-saved model"
   ]
  },
  {
   "cell_type": "code",
   "execution_count": 8,
   "id": "62f3f9ec",
   "metadata": {},
   "outputs": [
    {
     "name": "stdout",
     "output_type": "stream",
     "text": [
      "writing predictions to file...\n"
     ]
    },
    {
     "name": "stderr",
     "output_type": "stream",
     "text": [
      "C:\\Users\\Anthony\\Projects\\Rebar\\Replication\\Study_2\\lib\\tf_network.py:1427: VisibleDeprecationWarning: Creating an ndarray from ragged nested sequences (which is a list-or-tuple of lists-or-tuples-or ndarrays with different lengths or shapes) is deprecated. If you meant to do this, you must specify 'dtype=object' when creating the ndarray\n",
      "  pred.append(np.array(out_p))\n"
     ]
    },
    {
     "name": "stdout",
     "output_type": "stream",
     "text": [
      "done!\n"
     ]
    }
   ],
   "source": [
    "print('writing predictions to file...')\n",
    "du.write_csv(tfnet.flatten_sequence(np.array([np.array([t[-1]]) for t in net.predict(seqex['x'])[0]]),\n",
    "                                        seqex['key'].reshape((-1,3))), 'model_predictions.csv',\n",
    "             ['user_id','target_assignment_id','target_sequence_id','pcomplete'])\n",
    "print('done!')"
   ]
  },
  {
   "cell_type": "code",
   "execution_count": null,
   "id": "4849bdf3",
   "metadata": {},
   "outputs": [],
   "source": [
    "import graph_def_editor \n",
    "import warnings\n",
    "import time\n",
    "import csv\n",
    "import sys\n",
    "import os\n",
    "import pandas \n",
    "from sklearn.metrics import f1_score, r2_score\n",
    "from sklearn.metrics import mean_squared_error\n",
    "from skll.metrics import kappa as kpa\n",
    "import pickle\n",
    "import psycopg2 as pg\n",
    "import functools\n",
    "import Levenshtein as lev\n",
    "from nltk.tokenize import word_tokenize\n",
    "\n",
    "session_info.show()"
   ]
  },
  {
   "cell_type": "code",
   "execution_count": 9,
   "id": "8e4e9545",
   "metadata": {},
   "outputs": [],
   "source": [
    "net.session.close()"
   ]
  }
 ],
 "metadata": {
  "kernelspec": {
   "display_name": "Python 3",
   "language": "python",
   "name": "python3"
  },
  "language_info": {
   "codemirror_mode": {
    "name": "ipython",
    "version": 3
   },
   "file_extension": ".py",
   "mimetype": "text/x-python",
   "name": "python",
   "nbconvert_exporter": "python",
   "pygments_lexer": "ipython3",
   "version": "3.8.8"
  }
 },
 "nbformat": 4,
 "nbformat_minor": 5
}
