{
 "cells": [
  {
   "cell_type": "code",
   "execution_count": 1,
   "id": "939134e4",
   "metadata": {
    "scrolled": false
   },
   "outputs": [],
   "source": [
    "import lib.datautility as du\n",
    "import numpy as np\n",
    "import lib.tf_network2 as tfnet\n",
    "import lib.evaluationutility as eu\n",
    "from lib.tf_network2 import Network, Cost, Normalization, Optimizer\n",
    "import tensorflow as tf\n",
    "import session_info"
   ]
  },
  {
   "cell_type": "code",
   "execution_count": 2,
   "id": "dedee8c6",
   "metadata": {},
   "outputs": [],
   "source": [
    "import zipfile\n",
    "with zipfile.ZipFile('resources/resources.zip','r') as zf:\n",
    "    zf.extractall('resources/')"
   ]
  },
  {
   "cell_type": "code",
   "execution_count": 3,
   "id": "537d035e",
   "metadata": {},
   "outputs": [
    {
     "name": "stdout",
     "output_type": "stream",
     "text": [
      "-- loading resources/remnant.csv...(100%)   \n",
      "================================================================================\n",
      "DESCRIPTIVES     100 Rows, 27 Columns   \n",
      "================================================================================\n",
      "0 sequence_id_t... (int):      0 missing (0.0%)     mean=5969.00 (SD=0.00)                                                                           \n",
      "1 student_user_... (int):      0 missing (0.0%)     mean=73142.34 (SD=3621.97)                                                                       \n",
      "2 target_assign... (int):      0 missing (0.0%)     mean=216684.95 (SD=0.05)                                                                         \n",
      "3 target_assign... (int):      0 missing (0.0%)     mean=0.59 (SD=0.49)                                                                              \n",
      "4 prior_assignm... (int):      0 missing (0.0%)     mean=216679.72 (SD=6.26)                                                                         \n",
      "5 prior_assignm... (string):   0 missing (0.0%)     100 unique values                                                                                \n",
      "6 prior_assignm... (int):      0 missing (0.0%)     mean=4.43 (SD=2.54)                                                                              \n",
      "7 prior_assignm... (int):      0 missing (0.0%)     mean=6.41 (SD=4.47)                                                                              \n",
      "8 duplicate_use... (int):      0 missing (0.0%)     mean=73142.34 (SD=3621.97)                                                                       \n",
      "9 duplicate_ass... (int):      0 missing (0.0%)     mean=216679.72 (SD=6.26)                                                                         \n",
      "10 prior_assign... (int):      0 missing (0.0%)     mean=0.80 (SD=0.40)                                                                              \n",
      "11 prior_proble... (int):      0 missing (0.0%)     mean=1.00 (SD=0.00)                                                                              \n",
      "12 orig_method_... (int):      0 missing (0.0%)     mean=3.43 (SD=3.08)                                                                              \n",
      "13 orig_method_... (int):      0 missing (0.0%)     mean=3.26 (SD=3.13)                                                                              \n",
      "14 orig_method_... (float):    0 missing (0.0%)     mean=0.72 (SD=0.36)                                                                              \n",
      "15 orig_method_... (float):    0 missing (0.0%)     mean=2.07 (SD=8.05)                                                                              \n",
      "16 orig_method_... (float):    0 missing (0.0%)     mean=58.05 (SD=53.16)                                                                            \n",
      "17 orig_method_... (float):    0 missing (0.0%)     mean=-6.65 (SD=89.05)                                                                            \n",
      "18 orig_method_... (int):      0 missing (0.0%)     mean=1.08 (SD=0.27)                                                                              \n",
      "19 orig_method_... (float):    0 missing (0.0%)     mean=0.87 (SD=0.30)                                                                              \n",
      "20 orig_method_... (float):    0 missing (0.0%)     mean=0.06 (SD=0.18)                                                                              \n",
      "21 orig_method_... (float):    0 missing (0.0%)     mean=0.36 (SD=0.29)                                                                              \n",
      "22 orig_method_... (float):    0 missing (0.0%)     mean=0.51 (SD=0.31)                                                                              \n",
      "23 orig_method_... (float):    0 missing (0.0%)     mean=1.72 (SD=0.68)                                                                              \n",
      "24 orig_method_... (float):    0 missing (0.0%)     mean=1.61 (SD=0.82)                                                                              \n",
      "25 orig_method_... (float):    0 missing (0.0%)     mean=0.78 (SD=0.34)                                                                              \n",
      "26 orig_method_... (float):    0 missing (0.0%)     mean=1.12 (SD=0.91)                                                                              \n",
      "================================================================================\n",
      "\n",
      "-- loading resources/experimental.csv...(100%)   \n",
      "================================================================================\n",
      "DESCRIPTIVES     100 Rows, 27 Columns   \n",
      "================================================================================\n",
      "0 sequence_id_t... (int):      0 missing (0.0%)     mean=694143.06 (SD=0.06)                                                                         \n",
      "1 student_user_... (int):      0 missing (0.0%)     mean=292142.50 (SD=48116.09)                                                                     \n",
      "2 target_assign... (int):      0 missing (0.0%)     mean=1667278.12 (SD=0.12)                                                                        \n",
      "3 target_assign... (int):      0 missing (0.0%)     mean=0.80 (SD=0.40)                                                                              \n",
      "4 prior_assignm... (int):      0 missing (0.0%)     mean=1662932.50 (SD=3731.20)                                                                     \n",
      "5 prior_assignm... (string):   0 missing (0.0%)     100 unique values                                                                                \n",
      "6 prior_assignm... (int):      0 missing (0.0%)     mean=5.50 (SD=2.87)                                                                              \n",
      "7 prior_assignm... (int):      0 missing (0.0%)     mean=10.70 (SD=3.80)                                                                             \n",
      "8 duplicate_use... (int):      0 missing (0.0%)     mean=292142.50 (SD=48116.09)                                                                     \n",
      "9 duplicate_ass... (int):      0 missing (0.0%)     mean=1662932.50 (SD=3731.20)                                                                     \n",
      "10 prior_assign... (int):      0 missing (0.0%)     mean=0.97 (SD=0.17)                                                                              \n",
      "11 prior_proble... (int):      0 missing (0.0%)     mean=0.92 (SD=0.27)                                                                              \n",
      "12 orig_method_... (int):      0 missing (0.0%)     mean=3.54 (SD=1.45)                                                                              \n",
      "13 orig_method_... (int):      0 missing (0.0%)     mean=3.51 (SD=1.47)                                                                              \n",
      "14 orig_method_... (float):    0 missing (0.0%)     mean=0.90 (SD=0.21)                                                                              \n",
      "15 orig_method_... (float):    0 missing (0.0%)     mean=1.10 (SD=0.31)                                                                              \n",
      "16 orig_method_... (float):    0 missing (0.0%)     mean=12179.87 (SD=84660.65)                                                                      \n",
      "17 orig_method_... (float):    0 missing (0.0%)     mean=35.29 (SD=29.09)                                                                            \n",
      "18 orig_method_... (int):      0 missing (0.0%)     mean=1.04 (SD=0.20)                                                                              \n",
      "19 orig_method_... (float):    0 missing (0.0%)     mean=0.98 (SD=0.12)                                                                              \n",
      "20 orig_method_... (float):    0 missing (0.0%)     mean=0.00 (SD=0.02)                                                                              \n",
      "21 orig_method_... (float):    0 missing (0.0%)     mean=0.31 (SD=0.13)                                                                              \n",
      "22 orig_method_... (float):    0 missing (0.0%)     mean=0.54 (SD=0.13)                                                                              \n",
      "23 orig_method_... (float):    0 missing (0.0%)     mean=1.85 (SD=0.36)                                                                              \n",
      "24 orig_method_... (float):    0 missing (0.0%)     mean=1.83 (SD=0.40)                                                                              \n",
      "25 orig_method_... (float):    0 missing (0.0%)     mean=0.93 (SD=0.18)                                                                              \n",
      "26 orig_method_... (float):    0 missing (0.0%)     mean=1.04 (SD=0.15)                                                                              \n",
      "================================================================================\n",
      "\n"
     ]
    }
   ],
   "source": [
    "data, headers = du.read_csv('resources/remnant.csv', max_rows=100)\n",
    "du.print_descriptives(data, headers)\n",
    "\n",
    "\n",
    "data, headers = du.read_csv('resources/experimental.csv', max_rows=100)\n",
    "du.print_descriptives(data, headers)"
   ]
  },
  {
   "cell_type": "code",
   "execution_count": 4,
   "id": "856dc238",
   "metadata": {},
   "outputs": [
    {
     "name": "stdout",
     "output_type": "stream",
     "text": [
      "-- loading resources/remnant.csv...(100%)   \n",
      "-- preparing to format sequence from file...\n",
      "-- formatting sequence...(0.4%)  "
     ]
    },
    {
     "name": "stderr",
     "output_type": "stream",
     "text": [
      "C:\\Users\\asalesl\\Google Drive\\iesJohannReloop\\reloopPaper\\Python Code\\Study_2\\lib\\tf_network2.py:2001: VisibleDeprecationWarning: Creating an ndarray from ragged nested sequences (which is a list-or-tuple of lists-or-tuples-or ndarrays with different lengths or shapes) is deprecated. If you meant to do this, you must specify 'dtype=object' when creating the ndarray\n",
      "  seq['x'] = np.array(x)\n",
      "C:\\Users\\asalesl\\Google Drive\\iesJohannReloop\\reloopPaper\\Python Code\\Study_2\\lib\\tf_network2.py:2003: VisibleDeprecationWarning: Creating an ndarray from ragged nested sequences (which is a list-or-tuple of lists-or-tuples-or ndarrays with different lengths or shapes) is deprecated. If you meant to do this, you must specify 'dtype=object' when creating the ndarray\n",
      "  seq['iden'] = np.array(id)\n"
     ]
    },
    {
     "name": "stdout",
     "output_type": "stream",
     "text": [
      "-- formatting sequence...(100%)   \n",
      "formatting feature columns...\n"
     ]
    },
    {
     "name": "stderr",
     "output_type": "stream",
     "text": [
      "C:\\Users\\asalesl\\anaconda3\\lib\\site-packages\\numpy\\core\\_asarray.py:136: VisibleDeprecationWarning: Creating an ndarray from ragged nested sequences (which is a list-or-tuple of lists-or-tuples-or ndarrays with different lengths or shapes) is deprecated. If you meant to do this, you must specify 'dtype=object' when creating the ndarray\n",
      "  return array(a, dtype, copy=False, order=order, subok=True)\n"
     ]
    },
    {
     "name": "stdout",
     "output_type": "stream",
     "text": [
      "formatting output labels...\n",
      "done!\n"
     ]
    }
   ],
   "source": [
    "key = [1,2,0]\n",
    "iden = [4]\n",
    "cov = [10,11,12,13,14,15,16,17,18,19,20,21,22,23,24,25,26]\n",
    "lab = [[3]]\n",
    "order = 7\n",
    "\n",
    "seq = tfnet.format_sequence_from_file('resources/remnant.csv',\n",
    "                                          key,lab,cov,iden,order)\n",
    "print('formatting feature columns...')\n",
    "for i in range(len(seq['x'])):\n",
    "    for j in range(len(seq['x'][i])):\n",
    "        try:\n",
    "            seq['x'][i][j] = np.array(seq['x'][i][j], dtype=np.float32)\n",
    "        except TypeError:\n",
    "            print('error...')\n",
    "            print(seq['x'][i])\n",
    "            exit(1)\n",
    "seq['x'] = tfnet.sequence_impute_missing(seq['x'])\n",
    "\n",
    "print('formatting output labels...')\n",
    "seq['y'] = tfnet.use_last_multi_label(seq['y'], 0)\n",
    "\n",
    "print('done!')"
   ]
  },
  {
   "cell_type": "code",
   "execution_count": 5,
   "id": "dd9c3b28",
   "metadata": {},
   "outputs": [
    {
     "name": "stdout",
     "output_type": "stream",
     "text": [
      "-- loading resources/experimental.csv...(100%)   \n",
      "-- preparing to format sequence from file...\n",
      "-- formatting sequence...(100%)   \n",
      "formatting feature columns...\n",
      "formatting output labels...\n",
      "done!\n"
     ]
    }
   ],
   "source": [
    "key = [1,2,0]\n",
    "iden = [4]\n",
    "cov = [10,11,12,13,14,15,16,17,18,19,20,21,22,23,24,25,26]\n",
    "lab = [[3]]\n",
    "order = 7\n",
    "\n",
    "seqex = tfnet.format_sequence_from_file('resources/experimental.csv',\n",
    "                                          key,lab,cov,iden,order)\n",
    "print('formatting feature columns...')\n",
    "for i in range(len(seqex['x'])):\n",
    "    for j in range(len(seqex['x'][i])):\n",
    "        try:\n",
    "            seqex['x'][i][j] = np.array(seqex['x'][i][j], dtype=np.float32)\n",
    "        except TypeError:\n",
    "            print('error...')\n",
    "            print(seqex['x'][i])\n",
    "            exit(1)\n",
    "seqex['x'] = tfnet.sequence_impute_missing(seqex['x'])\n",
    "\n",
    "print('formatting output labels...')\n",
    "seqex['y'] = tfnet.use_last_multi_label(seqex['y'], 0)\n",
    "\n",
    "print('done!')"
   ]
  },
  {
   "cell_type": "code",
   "execution_count": 6,
   "id": "53fabf51",
   "metadata": {},
   "outputs": [
    {
     "name": "stdout",
     "output_type": "stream",
     "text": [
      "========================================\n",
      "======  Label Description  =============\n",
      "========================================\n",
      "-- Number of Samples: 129835\n",
      "-- Number of Label Sets: 1\n",
      "---- 1: 1 Label\n",
      "========================================\n",
      "\n"
     ]
    },
    {
     "data": {
      "text/plain": [
       "{'n_samples': 129835, 'n_label_sets': 1, 'n_labels': [1]}"
      ]
     },
     "execution_count": 6,
     "metadata": {},
     "output_type": "execute_result"
    }
   ],
   "source": [
    "n_cov = len(seq['x'][0][0])\n",
    "\n",
    "max_epochs = 200\n",
    "use_validation = True\n",
    "hidden = [50]\n",
    "batch = [64]\n",
    "layers = [1]\n",
    "keep = [.5]\n",
    "step = [1e-3]\n",
    "perf = []\n",
    "threshold = [0.0001]\n",
    "optimizer = [Optimizer.ADAM]\n",
    "\n",
    "tf.compat.v1.disable_eager_execution()\n",
    "\n",
    "tfnet.describe_multi_label(seq['y'], True)"
   ]
  },
  {
   "cell_type": "code",
   "execution_count": 7,
   "id": "702efca7",
   "metadata": {},
   "outputs": [
    {
     "name": "stdout",
     "output_type": "stream",
     "text": [
      "WARNING:tensorflow:From C:\\Users\\asalesl\\anaconda3\\lib\\site-packages\\tensorflow\\python\\util\\dispatch.py:206: calling dropout (from tensorflow.python.ops.nn_ops) with keep_prob is deprecated and will be removed in a future version.\n",
      "Instructions for updating:\n",
      "Please use `rate` instead of `keep_prob`. Rate should be set to `rate = 1 - keep_prob`.\n",
      "WARNING - Incomplete validation set information was provided. Using default 70/30% split.\n",
      "========================================\n",
      "            Training Network            \n",
      "========================================\n",
      "-3 layers: 17n -> 50n -> 1n\n",
      "-200 epochs\n",
      "-step size = 0.001\n",
      "-batch size = 64\n",
      "==================================================\n",
      "Epoch        Cost    Val Cost   Delta         Time\n",
      "==================================================\n"
     ]
    },
    {
     "name": "stderr",
     "output_type": "stream",
     "text": [
      "C:\\Users\\asalesl\\Google Drive\\iesJohannReloop\\reloopPaper\\Python Code\\Study_2\\lib\\tf_network2.py:1048: VisibleDeprecationWarning: Creating an ndarray from ragged nested sequences (which is a list-or-tuple of lists-or-tuples-or ndarrays with different lengths or shapes) is deprecated. If you meant to do this, you must specify 'dtype=object' when creating the ndarray\n",
      "  np.array([a[i] for a in series_label])]).reshape((len(series_batch), n_timestep, -1)))\n"
     ]
    },
    {
     "name": "stdout",
     "output_type": "stream",
     "text": [
      "Epoch 1     0.3919    0.2640    0.0000      162.4s\n",
      "Epoch 2     0.3695    0.2648   -0.0004      152.2s\n",
      "Epoch 3     0.3670    0.2635    0.0003      155.2s\n",
      "Epoch 4     0.3649    0.2615    0.0006      159.8s\n",
      "Epoch 5     0.3641    0.2608    0.0005      153.1s\n",
      "Epoch 6     0.3629    0.2609    0.0006      153.8s\n",
      "Epoch 7     0.3624    0.2612    0.0007      160.2s\n",
      "Epoch 8     0.3613    0.2607    0.0006      170.3s\n",
      "Epoch 9     0.3616    0.2611    0.0001      152.1s\n",
      "==================================================\n",
      "Total Time: 1419.1s\n"
     ]
    }
   ],
   "source": [
    "tf.compat.v1.reset_default_graph()\n",
    "tf.compat.v1.set_random_seed(1)\n",
    "np.random.seed(1)\n",
    "\n",
    "net = Network('study2_model').add_input_layer(n_cov, normalization=Normalization.Z_SCORE)\n",
    "net.add_lstm_layer(hidden[0], peepholes=True)\n",
    "\n",
    "net.begin_multi_output(cost_methods=[Cost.BINARY_CROSS_ENTROPY])\n",
    "net.add_dropout_layer(1, keep=keep[0], activation=tf.nn.sigmoid)\n",
    "net.end_multi_output()\n",
    "\n",
    "net.set_default_cost_method(Cost.CROSS_ENTROPY)\n",
    "net.set_optimizer(optimizer[0])\n",
    "\n",
    "net.train(x=seq['x'],\n",
    "          y=seq['y'],\n",
    "          step=step[0],\n",
    "          use_validation=True,\n",
    "          max_epochs=max_epochs, threshold=threshold[0], batch=batch[0])"
   ]
  },
  {
   "cell_type": "code",
   "execution_count": 8,
   "id": "6775b646",
   "metadata": {},
   "outputs": [],
   "source": [
    "net.save_model_weights()      # comment to use a previously-saved model\n",
    "#\n",
    "# net.build()                 # uncomment to use previously-saved model\n",
    "# net.restore_model_weights() # uncomment to use previously-saved model"
   ]
  },
  {
   "cell_type": "code",
   "execution_count": 9,
   "id": "62f3f9ec",
   "metadata": {},
   "outputs": [
    {
     "name": "stdout",
     "output_type": "stream",
     "text": [
      "writing predictions to file...\n"
     ]
    },
    {
     "name": "stderr",
     "output_type": "stream",
     "text": [
      "C:\\Users\\asalesl\\Google Drive\\iesJohannReloop\\reloopPaper\\Python Code\\Study_2\\lib\\tf_network2.py:1428: VisibleDeprecationWarning: Creating an ndarray from ragged nested sequences (which is a list-or-tuple of lists-or-tuples-or ndarrays with different lengths or shapes) is deprecated. If you meant to do this, you must specify 'dtype=object' when creating the ndarray\n",
      "  pred.append(np.array(out_p))\n"
     ]
    },
    {
     "name": "stdout",
     "output_type": "stream",
     "text": [
      "done!\n"
     ]
    }
   ],
   "source": [
    "print('writing predictions to file...')\n",
    "du.write_csv(tfnet.flatten_sequence(np.array([np.array([t[-1]]) for t in net.predict(seqex['x'])[0]]),\n",
    "                                        seqex['key'].reshape((-1,3))), 'model_predictions.csv',\n",
    "             ['user_id','target_assignment_id','target_sequence_id','pcomplete'])\n",
    "print('done!')"
   ]
  },
  {
   "cell_type": "code",
   "execution_count": 10,
   "id": "4849bdf3",
   "metadata": {},
   "outputs": [
    {
     "data": {
      "text/html": [
       "<details>\n",
       "<summary>Click to view session information</summary>\n",
       "<pre>\n",
       "-----\n",
       "Levenshtein         NA\n",
       "graph_def_editor    NA\n",
       "lib                 NA\n",
       "nltk                3.6.1\n",
       "numpy               1.19.5\n",
       "pandas              1.2.4\n",
       "psycopg2            2.8.6 (dt dec pq3 ext lo64)\n",
       "session_info        1.0.0\n",
       "sklearn             0.24.1\n",
       "skll                NA\n",
       "tensorflow          2.5.0\n",
       "-----\n",
       "</pre>\n",
       "<details>\n",
       "<summary>Click to view modules imported as dependencies</summary>\n",
       "<pre>\n",
       "2f7ece400a652629565c523b34ee61b04afa385c    NA\n",
       "PIL                                         8.2.0\n",
       "absl                                        NA\n",
       "anyio                                       NA\n",
       "astunparse                                  1.6.3\n",
       "attr                                        20.3.0\n",
       "babel                                       2.9.0\n",
       "backcall                                    0.2.0\n",
       "bottleneck                                  1.3.2\n",
       "brotli                                      NA\n",
       "certifi                                     2020.12.05\n",
       "cffi                                        1.14.5\n",
       "chardet                                     4.0.0\n",
       "colorama                                    0.4.4\n",
       "cython_runtime                              NA\n",
       "dateutil                                    2.8.1\n",
       "decorator                                   5.0.6\n",
       "flatbuffers                                 NA\n",
       "gast                                        NA\n",
       "google                                      NA\n",
       "h5py                                        3.1.0\n",
       "idna                                        2.10\n",
       "ipykernel                                   5.3.4\n",
       "ipython_genutils                            0.2.0\n",
       "jedi                                        0.17.2\n",
       "jinja2                                      2.11.3\n",
       "joblib                                      1.0.1\n",
       "json5                                       NA\n",
       "jsonschema                                  3.2.0\n",
       "jupyter_server                              1.4.1\n",
       "jupyterlab_server                           2.4.0\n",
       "keras_preprocessing                         1.1.2\n",
       "markupsafe                                  1.1.1\n",
       "mpl_toolkits                                NA\n",
       "nbclassic                                   NA\n",
       "nbformat                                    5.1.3\n",
       "nt                                          NA\n",
       "ntsecuritycon                               NA\n",
       "opt_einsum                                  v3.3.0\n",
       "packaging                                   20.9\n",
       "parso                                       0.7.0\n",
       "pickleshare                                 0.7.5\n",
       "pkg_resources                               NA\n",
       "prometheus_client                           NA\n",
       "prompt_toolkit                              3.0.17\n",
       "psutil                                      5.8.0\n",
       "pvectorc                                    NA\n",
       "pygments                                    2.8.1\n",
       "pyrsistent                                  NA\n",
       "pythoncom                                   NA\n",
       "pytz                                        2021.1\n",
       "pywintypes                                  NA\n",
       "regex                                       2.5.93\n",
       "requests                                    2.25.1\n",
       "ruamel                                      NA\n",
       "scipy                                       1.6.2\n",
       "send2trash                                  NA\n",
       "six                                         1.15.0\n",
       "sniffio                                     1.2.0\n",
       "socks                                       1.7.1\n",
       "sphinxcontrib                               NA\n",
       "storemagic                                  NA\n",
       "tblib                                       1.7.0\n",
       "tensorboard                                 2.5.0\n",
       "termcolor                                   1.1.0\n",
       "tornado                                     6.1\n",
       "traitlets                                   5.0.5\n",
       "typing_extensions                           NA\n",
       "urllib3                                     1.26.4\n",
       "wcwidth                                     0.2.5\n",
       "win32api                                    NA\n",
       "win32com                                    NA\n",
       "win32security                               NA\n",
       "wrapt                                       1.12.1\n",
       "yaml                                        5.4.1\n",
       "zmq                                         20.0.0\n",
       "zope                                        NA\n",
       "</pre>\n",
       "</details> <!-- seems like this ends pre, so might as well be explicit -->\n",
       "<pre>\n",
       "-----\n",
       "IPython             7.22.0\n",
       "jupyter_client      6.1.12\n",
       "jupyter_core        4.7.1\n",
       "jupyterlab          3.0.14\n",
       "notebook            6.3.0\n",
       "-----\n",
       "Python 3.8.8 (default, Apr 13 2021, 15:08:03) [MSC v.1916 64 bit (AMD64)]\n",
       "Windows-10-10.0.18362-SP0\n",
       "-----\n",
       "Session information updated at 2021-06-10 10:50\n",
       "</pre>\n",
       "</details>"
      ],
      "text/plain": [
       "<IPython.core.display.HTML object>"
      ]
     },
     "execution_count": 10,
     "metadata": {},
     "output_type": "execute_result"
    }
   ],
   "source": [
    "import graph_def_editor \n",
    "import warnings\n",
    "import time\n",
    "import csv\n",
    "import sys\n",
    "import os\n",
    "import pandas \n",
    "from sklearn.metrics import f1_score, r2_score\n",
    "from sklearn.metrics import mean_squared_error\n",
    "from skll.metrics import kappa as kpa\n",
    "import pickle\n",
    "import psycopg2 as pg\n",
    "import functools\n",
    "import Levenshtein as lev\n",
    "from nltk.tokenize import word_tokenize\n",
    "\n",
    "session_info.show()"
   ]
  },
  {
   "cell_type": "code",
   "execution_count": 11,
   "id": "8e4e9545",
   "metadata": {},
   "outputs": [],
   "source": [
    "net.session.close()"
   ]
  }
 ],
 "metadata": {
  "kernelspec": {
   "display_name": "Python 3",
   "language": "python",
   "name": "python3"
  },
  "language_info": {
   "codemirror_mode": {
    "name": "ipython",
    "version": 3
   },
   "file_extension": ".py",
   "mimetype": "text/x-python",
   "name": "python",
   "nbconvert_exporter": "python",
   "pygments_lexer": "ipython3",
   "version": "3.8.8"
  }
 },
 "nbformat": 4,
 "nbformat_minor": 5
}
